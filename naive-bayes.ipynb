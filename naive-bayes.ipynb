{
 "cells": [
  {
   "cell_type": "code",
   "execution_count": 1,
   "id": "9469b028",
   "metadata": {},
   "outputs": [],
   "source": [
    "#install.packages(\"readtext\")\n",
    "suppressWarnings(library(readtext))"
   ]
  },
  {
   "cell_type": "code",
   "execution_count": 2,
   "id": "c7f214c2",
   "metadata": {},
   "outputs": [],
   "source": [
    "train_data_dir <- system.file(\"src/text_classfication/C50train/\")"
   ]
  },
  {
   "cell_type": "code",
   "execution_count": 3,
   "id": "aaf43688",
   "metadata": {},
   "outputs": [],
   "source": [
    "train_data <- readtext(paste0(train_data_dir, \"src/text_classfication/C50train/*\"), dvsep = \"\\n\")"
   ]
  },
  {
   "cell_type": "code",
   "execution_count": 4,
   "id": "11d61aaf",
   "metadata": {},
   "outputs": [],
   "source": [
    "test_data_dir <- system.file(\"src/text_classfication/C50test/\")"
   ]
  },
  {
   "cell_type": "code",
   "execution_count": 5,
   "id": "0af0ddb3",
   "metadata": {},
   "outputs": [],
   "source": [
    "test_data <- readtext(paste0(test_data_dir, \"src/text_classfication/C50test/*\"), dvsep = \"\\n\")"
   ]
  },
  {
   "cell_type": "code",
   "execution_count": 6,
   "id": "2ae8b324",
   "metadata": {},
   "outputs": [],
   "source": [
    "authors <- as.data.frame(rep(basename(list.dirs(\"src/text_classfication/C50train\")), each = 50))"
   ]
  },
  {
   "cell_type": "code",
   "execution_count": 7,
   "id": "ee155751",
   "metadata": {},
   "outputs": [],
   "source": [
    "authors_name <- authors[-(1:50),]"
   ]
  },
  {
   "cell_type": "code",
   "execution_count": 8,
   "id": "edda14e1",
   "metadata": {},
   "outputs": [],
   "source": [
    "train_data$authors <- authors_name\n",
    "test_data$authors <- authors_name"
   ]
  },
  {
   "cell_type": "code",
   "execution_count": 9,
   "id": "6b0d81ef",
   "metadata": {},
   "outputs": [],
   "source": [
    "train_data$doc_id <- NULL\n",
    "test_data$doc_id <- NULL"
   ]
  },
  {
   "cell_type": "code",
   "execution_count": 10,
   "id": "b8e0027e",
   "metadata": {},
   "outputs": [],
   "source": [
    "train_data$authors <- as.factor(train_data$authors)\n",
    "test_data$authors <- as.factor(test_data$authors)"
   ]
  },
  {
   "cell_type": "code",
   "execution_count": 11,
   "id": "69e8d355",
   "metadata": {},
   "outputs": [
    {
     "name": "stderr",
     "output_type": "stream",
     "text": [
      "\n",
      "Attaching package: 'dplyr'\n",
      "\n",
      "The following objects are masked from 'package:stats':\n",
      "\n",
      "    filter, lag\n",
      "\n",
      "The following objects are masked from 'package:base':\n",
      "\n",
      "    intersect, setdiff, setequal, union\n",
      "\n",
      "\n",
      "Attaching package: 'data.table'\n",
      "\n",
      "The following objects are masked from 'package:dplyr':\n",
      "\n",
      "    between, first, last\n",
      "\n"
     ]
    }
   ],
   "source": [
    "suppressWarnings(library(dplyr))\n",
    "suppressWarnings(library(data.table))"
   ]
  },
  {
   "cell_type": "code",
   "execution_count": 12,
   "id": "ab4b8f27",
   "metadata": {},
   "outputs": [],
   "source": [
    "AaronTrain <- train_data %>% filter(authors == \"AaronPressman\", text == text)\n",
    "JaneTrain <- train_data %>% filter(authors == \"JaneMacartney\", text == text)\n",
    "SarahTrain <- train_data %>% filter(authors == \"SarahDavison\", text == text)\n",
    "WilliamTrain <- train_data %>% filter(authors == \"WilliamKazer\", text == text)\n",
    "train_data <- rbind(AaronTrain, JaneTrain, SarahTrain, WilliamTrain)"
   ]
  },
  {
   "cell_type": "code",
   "execution_count": 13,
   "id": "b894ad47",
   "metadata": {},
   "outputs": [],
   "source": [
    "AaronTest <- test_data %>% filter(authors == \"AaronPressman\", text == text)\n",
    "JaneTest <- test_data %>% filter(authors == \"JaneMacartney\", text == text)\n",
    "SarahTest <- test_data %>% filter(authors == \"SarahDavison\", text == text)\n",
    "WilliamTest <- test_data %>% filter(authors == \"WilliamKazer\", text == text)\n",
    "test_data <- rbind(AaronTest, JaneTest, SarahTest, WilliamTest)"
   ]
  },
  {
   "cell_type": "code",
   "execution_count": 14,
   "id": "263f192c",
   "metadata": {},
   "outputs": [
    {
     "data": {
      "text/html": [
       "<ol class=list-inline>\n",
       "\t<li>200</li>\n",
       "\t<li>2</li>\n",
       "</ol>\n"
      ],
      "text/latex": [
       "\\begin{enumerate*}\n",
       "\\item 200\n",
       "\\item 2\n",
       "\\end{enumerate*}\n"
      ],
      "text/markdown": [
       "1. 200\n",
       "2. 2\n",
       "\n",
       "\n"
      ],
      "text/plain": [
       "[1] 200   2"
      ]
     },
     "metadata": {},
     "output_type": "display_data"
    }
   ],
   "source": [
    "dim(test_data)"
   ]
  },
  {
   "cell_type": "code",
   "execution_count": 15,
   "id": "ca67a094",
   "metadata": {},
   "outputs": [
    {
     "data": {
      "text/html": [
       "<ol class=list-inline>\n",
       "\t<li>200</li>\n",
       "\t<li>2</li>\n",
       "</ol>\n"
      ],
      "text/latex": [
       "\\begin{enumerate*}\n",
       "\\item 200\n",
       "\\item 2\n",
       "\\end{enumerate*}\n"
      ],
      "text/markdown": [
       "1. 200\n",
       "2. 2\n",
       "\n",
       "\n"
      ],
      "text/plain": [
       "[1] 200   2"
      ]
     },
     "metadata": {},
     "output_type": "display_data"
    }
   ],
   "source": [
    "dim(train_data)"
   ]
  },
  {
   "cell_type": "code",
   "execution_count": 16,
   "id": "b74a7351",
   "metadata": {},
   "outputs": [
    {
     "name": "stdout",
     "output_type": "stream",
     "text": [
      "package 'tm' successfully unpacked and MD5 sums checked\n",
      "\n",
      "The downloaded binary packages are in\n",
      "\tC:\\Users\\alpye\\AppData\\Local\\Temp\\Rtmp8EhfIa\\downloaded_packages\n"
     ]
    },
    {
     "name": "stderr",
     "output_type": "stream",
     "text": [
      "Warning message:\n",
      "\"package 'tm' was built under R version 3.6.3\"Loading required package: NLP\n",
      "Warning message:\n",
      "\"package 'NLP' was built under R version 3.6.3\""
     ]
    }
   ],
   "source": [
    "install.packages(\"tm\")\n",
    "library(tm)"
   ]
  },
  {
   "cell_type": "code",
   "execution_count": 17,
   "id": "01eb5abf",
   "metadata": {},
   "outputs": [],
   "source": [
    "train_data_corpus <- Corpus(VectorSource(train_data$text))\n",
    "test_data_corpus <- Corpus(VectorSource(test_data$text))"
   ]
  },
  {
   "cell_type": "code",
   "execution_count": 18,
   "id": "f0b31bbd",
   "metadata": {},
   "outputs": [
    {
     "name": "stderr",
     "output_type": "stream",
     "text": [
      "Warning message in tm_map.SimpleCorpus(train_data_corpus, tolower):\n",
      "\"transformation drops documents\"Warning message in tm_map.SimpleCorpus(test_data_corpus, tolower):\n",
      "\"transformation drops documents\"Warning message in tm_map.SimpleCorpus(train_data_corpus_clean, removeNumbers):\n",
      "\"transformation drops documents\"Warning message in tm_map.SimpleCorpus(test_data_corpus_clean, removeNumbers):\n",
      "\"transformation drops documents\"Warning message in tm_map.SimpleCorpus(train_data_corpus_clean, removeWords, stopwords()):\n",
      "\"transformation drops documents\"Warning message in tm_map.SimpleCorpus(test_data_corpus_clean, removeWords, stopwords()):\n",
      "\"transformation drops documents\"Warning message in tm_map.SimpleCorpus(train_data_corpus_clean, removePunctuation):\n",
      "\"transformation drops documents\"Warning message in tm_map.SimpleCorpus(test_data_corpus_clean, removePunctuation):\n",
      "\"transformation drops documents\"Warning message in tm_map.SimpleCorpus(train_data_corpus_clean, stripWhitespace):\n",
      "\"transformation drops documents\"Warning message in tm_map.SimpleCorpus(test_data_corpus_clean, stripWhitespace):\n",
      "\"transformation drops documents\""
     ]
    }
   ],
   "source": [
    "train_data_corpus_clean <- tm_map(train_data_corpus, tolower)\n",
    "test_data_corpus_clean <- tm_map(test_data_corpus, tolower)\n",
    "\n",
    "train_data_corpus_clean <- tm_map(train_data_corpus_clean, removeNumbers)\n",
    "test_data_corpus_clean <- tm_map(test_data_corpus_clean, removeNumbers)\n",
    "\n",
    "train_data_corpus_clean <- tm_map(train_data_corpus_clean, removeWords, stopwords())\n",
    "test_data_corpus_clean <- tm_map(test_data_corpus_clean, removeWords, stopwords())\n",
    "\n",
    "train_data_corpus_clean <- tm_map(train_data_corpus_clean, removePunctuation)\n",
    "test_data_corpus_clean <- tm_map(test_data_corpus_clean, removePunctuation)\n",
    "\n",
    "train_data_corpus_clean <- tm_map(train_data_corpus_clean, stripWhitespace)\n",
    "test_data_corpus_clean <- tm_map(test_data_corpus_clean, stripWhitespace)"
   ]
  },
  {
   "cell_type": "code",
   "execution_count": 19,
   "id": "da519ba0",
   "metadata": {},
   "outputs": [
    {
     "name": "stdout",
     "output_type": "stream",
     "text": [
      "<<SimpleCorpus>>\n",
      "Metadata:  corpus specific: 1, document level (indexed): 0\n",
      "Content:  documents: 1\n",
      "\n",
      "[1]  internet may overflowing new technology crime cyberspace still oldfashioned variety national consumers league said wednesday popular scam internet pyramid scheme early investors bogus fund paid deposits later investors league nonprofit consumer advocacy group tracks web scams site set world wide web february called internet fraud watch httpwwwfraudorg site collects reports directly consumers widely praised law enforcement agencies consumers suspect scam internet critical information said jodie bernstein director federal trade commissions bureau consumer protection internet fraud watch major help ftc identifying particular scams infancy may example commission used internet reports shut site run fortuna alliance taken million promising investors earn month initial deposit instead fortuna kept money commission charged fraud reports leagues site visited times forwarded local state federal authorities secondpopular internet scam league said sale bogus internet services custom designed web sites internet access accounts third place crooks sell computer equipment memory chips sound boards net deliver significantly lower quality goods nothing league said top scams involve business opportunities con artists may offer shares business franchise using unreasonable predictions misrepresentations one popular scheme promised let consumers get rich working home league also announced tuesday nationsbank donated become sponsor fraud watch site\n"
     ]
    }
   ],
   "source": [
    "suppressWarnings(inspect(train_data_corpus_clean[1]))"
   ]
  },
  {
   "cell_type": "code",
   "execution_count": 20,
   "id": "d60abb7d",
   "metadata": {},
   "outputs": [
    {
     "name": "stdout",
     "output_type": "stream",
     "text": [
      "package 'wordcloud' successfully unpacked and MD5 sums checked\n",
      "\n",
      "The downloaded binary packages are in\n",
      "\tC:\\Users\\alpye\\AppData\\Local\\Temp\\Rtmp8EhfIa\\downloaded_packages\n"
     ]
    },
    {
     "name": "stderr",
     "output_type": "stream",
     "text": [
      "Warning message:\n",
      "\"package 'wordcloud' was built under R version 3.6.3\"Loading required package: RColorBrewer\n"
     ]
    }
   ],
   "source": [
    "install.packages(\"wordcloud\")\n",
    "library(wordcloud)"
   ]
  },
  {
   "cell_type": "code",
   "execution_count": 21,
   "id": "5477286d",
   "metadata": {},
   "outputs": [
    {
     "data": {
      "image/png": "[encoded data removed]",
      "text/plain": [
       "plot without title"
      ]
     },
     "metadata": {},
     "output_type": "display_data"
    }
   ],
   "source": [
    "wordcloud(test_data_corpus_clean, min.freq = 40, random.order = FALSE)"
   ]
  },
  {
   "cell_type": "code",
   "execution_count": 22,
   "id": "88851bc1",
   "metadata": {},
   "outputs": [],
   "source": [
    "train_dtm <- DocumentTermMatrix(train_data_corpus_clean)\n",
    "test_dtm <- DocumentTermMatrix(test_data_corpus_clean)"
   ]
  },
  {
   "cell_type": "code",
   "execution_count": 23,
   "id": "78ca6761",
   "metadata": {},
   "outputs": [
    {
     "name": "stdout",
     "output_type": "stream",
     "text": [
      "<<DocumentTermMatrix (documents: 200, terms: 9103)>>\n",
      "Non-/sparse entries: 42532/1778068\n",
      "Sparsity           : 98%\n",
      "Maximal term length: 22\n",
      "Weighting          : term frequency (tf)\n",
      "Sample             :\n",
      "     Terms\n",
      "Docs  beijing china chinas chinese hong kong one said will year\n",
      "  102       1     7      3       0   24   18   5   10    3    3\n",
      "  104       0     0      0       0    3    3   2   25    8    1\n",
      "  122       0     9      1       9   18   14   6    6    2    1\n",
      "  128       0     5      1       4   21   18   1    3    3    0\n",
      "  148       0     7      2       2   27   20   1    2    3    0\n",
      "  150       0     4      3       1   16   13   2    7    4    0\n",
      "  181      16     9      5       2   17   13   2    8    3    0\n",
      "  3         0     0      0       0    0    0   4    9    2    0\n",
      "  84        0     2      3       5    0    0   0    2    0    2\n",
      "  90        3     8      6       5    2    2   2   10    1    3\n"
     ]
    }
   ],
   "source": [
    "inspect(test_dtm)"
   ]
  },
  {
   "cell_type": "code",
   "execution_count": 24,
   "id": "951a4263",
   "metadata": {},
   "outputs": [],
   "source": [
    "FreqWords <- findFreqTerms(train_dtm, 5)"
   ]
  },
  {
   "cell_type": "code",
   "execution_count": 25,
   "id": "aa4f1c7b",
   "metadata": {},
   "outputs": [],
   "source": [
    "dict <- function(x) {\n",
    "    if(is.character(x)) {\n",
    "        return (x)\n",
    "    }\n",
    "    stop(\"x is not a character vector\")\n",
    "}"
   ]
  },
  {
   "cell_type": "code",
   "execution_count": 26,
   "id": "bde0fc10",
   "metadata": {},
   "outputs": [],
   "source": [
    "data_dict <- dict(findFreqTerms(train_dtm, 5))"
   ]
  },
  {
   "cell_type": "code",
   "execution_count": 27,
   "id": "3d820255",
   "metadata": {},
   "outputs": [],
   "source": [
    "train <- DocumentTermMatrix(train_data_corpus_clean, list(data_dict))\n",
    "test <- DocumentTermMatrix(test_data_corpus_clean, list(data_dict))"
   ]
  },
  {
   "cell_type": "code",
   "execution_count": 28,
   "id": "392f74fa",
   "metadata": {},
   "outputs": [],
   "source": [
    "convert_counts <- function(x) {\n",
    "        x <- ifelse(x > 0, 1, 0)\n",
    "        x <- factor(x, levels = c(0, 1), labels = c(\"No\", \"Yes\")) \n",
    "        return(x)\n",
    "}"
   ]
  },
  {
   "cell_type": "code",
   "execution_count": 29,
   "id": "25968e9c",
   "metadata": {},
   "outputs": [],
   "source": [
    "train <- apply(train, MARGIN = 2, convert_counts)\n",
    "test <- apply(test, MARGIN = 2, convert_counts)"
   ]
  },
  {
   "cell_type": "code",
   "execution_count": 30,
   "id": "ccf2ea9a",
   "metadata": {},
   "outputs": [
    {
     "name": "stderr",
     "output_type": "stream",
     "text": [
      "Warning message:\n",
      "\"package 'e1071' was built under R version 3.6.3\""
     ]
    }
   ],
   "source": [
    "library(e1071)"
   ]
  },
  {
   "cell_type": "code",
   "execution_count": 31,
   "id": "0effde8c",
   "metadata": {},
   "outputs": [],
   "source": [
    "model <- naiveBayes(train, train_data$authors)"
   ]
  },
  {
   "cell_type": "code",
   "execution_count": 32,
   "id": "72d69db7",
   "metadata": {},
   "outputs": [
    {
     "name": "stdout",
     "output_type": "stream",
     "text": [
      "package 'gmodels' successfully unpacked and MD5 sums checked\n",
      "\n",
      "The downloaded binary packages are in\n",
      "\tC:\\Users\\alpye\\AppData\\Local\\Temp\\Rtmp8EhfIa\\downloaded_packages\n"
     ]
    }
   ],
   "source": [
    "install.packages(\"gmodels\")"
   ]
  },
  {
   "cell_type": "code",
   "execution_count": 33,
   "id": "4a85dd12",
   "metadata": {},
   "outputs": [
    {
     "name": "stderr",
     "output_type": "stream",
     "text": [
      "Warning message:\n",
      "\"package 'gmodels' was built under R version 3.6.3\""
     ]
    }
   ],
   "source": [
    "library(gmodels)"
   ]
  },
  {
   "cell_type": "code",
   "execution_count": 34,
   "id": "7dc08d1e",
   "metadata": {},
   "outputs": [],
   "source": [
    "pred <- predict(model, test)"
   ]
  },
  {
   "cell_type": "code",
   "execution_count": 35,
   "id": "7994b748",
   "metadata": {},
   "outputs": [
    {
     "name": "stdout",
     "output_type": "stream",
     "text": [
      "\n",
      " \n",
      "   Cell Contents\n",
      "|-------------------------|\n",
      "|                       N |\n",
      "|           N / Row Total |\n",
      "|           N / Col Total |\n",
      "|-------------------------|\n",
      "\n",
      " \n",
      "Total Observations in Table:  200 \n",
      "\n",
      " \n",
      "              | actual \n",
      "    predicted | AaronPressman | JaneMacartney |  SarahDavison |  WilliamKazer |     Row Total | \n",
      "--------------|---------------|---------------|---------------|---------------|---------------|\n",
      "AaronPressman |            46 |             0 |             0 |             0 |            46 | \n",
      "              |         1.000 |         0.000 |         0.000 |         0.000 |         0.230 | \n",
      "              |         0.920 |         0.000 |         0.000 |         0.000 |               | \n",
      "--------------|---------------|---------------|---------------|---------------|---------------|\n",
      "JaneMacartney |             0 |            40 |             2 |            14 |            56 | \n",
      "              |         0.000 |         0.714 |         0.036 |         0.250 |         0.280 | \n",
      "              |         0.000 |         0.800 |         0.040 |         0.280 |               | \n",
      "--------------|---------------|---------------|---------------|---------------|---------------|\n",
      " SarahDavison |             4 |             0 |            47 |             3 |            54 | \n",
      "              |         0.074 |         0.000 |         0.870 |         0.056 |         0.270 | \n",
      "              |         0.080 |         0.000 |         0.940 |         0.060 |               | \n",
      "--------------|---------------|---------------|---------------|---------------|---------------|\n",
      " WilliamKazer |             0 |            10 |             1 |            33 |            44 | \n",
      "              |         0.000 |         0.227 |         0.023 |         0.750 |         0.220 | \n",
      "              |         0.000 |         0.200 |         0.020 |         0.660 |               | \n",
      "--------------|---------------|---------------|---------------|---------------|---------------|\n",
      " Column Total |            50 |            50 |            50 |            50 |           200 | \n",
      "              |         0.250 |         0.250 |         0.250 |         0.250 |               | \n",
      "--------------|---------------|---------------|---------------|---------------|---------------|\n",
      "\n",
      " \n"
     ]
    }
   ],
   "source": [
    "CrossTable(pred, test_data$authors,\n",
    "           prop.chisq = FALSE, prop.t = FALSE,\n",
    "           dnn = c('predicted', 'actual'))"
   ]
  }
 ],
 "metadata": {
  "kernelspec": {
   "display_name": "R",
   "language": "R",
   "name": "ir"
  },
  "language_info": {
   "codemirror_mode": "r",
   "file_extension": ".r",
   "mimetype": "text/x-r-source",
   "name": "R",
   "pygments_lexer": "r",
   "version": "3.6.1"
  }
 },
 "nbformat": 4,
 "nbformat_minor": 5
}
