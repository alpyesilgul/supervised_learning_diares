{
 "cells": [
  {
   "cell_type": "code",
   "execution_count": 1,
   "id": "f4524e3c",
   "metadata": {},
   "outputs": [
    {
     "name": "stderr",
     "output_type": "stream",
     "text": [
      "Warning message:\n",
      "\"package 'xgboost' was built under R version 3.6.3\"-- \u001b[1mAttaching packages\u001b[22m ------------------------------------------------------------------------------- tidyverse 1.2.1 --\n",
      "\u001b[32mv\u001b[39m \u001b[34mggplot2\u001b[39m 3.3.3     \u001b[32mv\u001b[39m \u001b[34mpurrr  \u001b[39m 0.3.4\n",
      "\u001b[32mv\u001b[39m \u001b[34mtibble \u001b[39m 3.1.1     \u001b[32mv\u001b[39m \u001b[34mdplyr  \u001b[39m 1.0.5\n",
      "\u001b[32mv\u001b[39m \u001b[34mtidyr  \u001b[39m 1.1.3     \u001b[32mv\u001b[39m \u001b[34mstringr\u001b[39m 1.4.0\n",
      "\u001b[32mv\u001b[39m \u001b[34mreadr  \u001b[39m 1.4.0     \u001b[32mv\u001b[39m \u001b[34mforcats\u001b[39m 0.5.1\n",
      "Warning message:\n",
      "\"package 'ggplot2' was built under R version 3.6.3\"Warning message:\n",
      "\"package 'tibble' was built under R version 3.6.3\"Warning message:\n",
      "\"package 'tidyr' was built under R version 3.6.3\"Warning message:\n",
      "\"package 'readr' was built under R version 3.6.3\"Warning message:\n",
      "\"package 'purrr' was built under R version 3.6.3\"Warning message:\n",
      "\"package 'dplyr' was built under R version 3.6.3\"Warning message:\n",
      "\"package 'forcats' was built under R version 3.6.3\"-- \u001b[1mConflicts\u001b[22m ---------------------------------------------------------------------------------- tidyverse_conflicts() --\n",
      "\u001b[31mx\u001b[39m \u001b[34mdplyr\u001b[39m::\u001b[32mfilter()\u001b[39m masks \u001b[34mstats\u001b[39m::filter()\n",
      "\u001b[31mx\u001b[39m \u001b[34mdplyr\u001b[39m::\u001b[32mlag()\u001b[39m    masks \u001b[34mstats\u001b[39m::lag()\n",
      "\u001b[31mx\u001b[39m \u001b[34mdplyr\u001b[39m::\u001b[32mslice()\u001b[39m  masks \u001b[34mxgboost\u001b[39m::slice()\n"
     ]
    }
   ],
   "source": [
    "library(xgboost)\n",
    "library(tidyverse)"
   ]
  },
  {
   "cell_type": "code",
   "execution_count": 2,
   "id": "580d028f",
   "metadata": {},
   "outputs": [
    {
     "name": "stderr",
     "output_type": "stream",
     "text": [
      "\n",
      "\u001b[36m--\u001b[39m \u001b[1m\u001b[1mColumn specification\u001b[1m\u001b[22m \u001b[36m------------------------------------------------------------------------------------------------\u001b[39m\n",
      "cols(\n",
      "  .default = col_character(),\n",
      "  Id = \u001b[32mcol_double()\u001b[39m,\n",
      "  latitude = \u001b[32mcol_double()\u001b[39m,\n",
      "  longitude = \u001b[32mcol_double()\u001b[39m,\n",
      "  sumAtRisk = \u001b[32mcol_double()\u001b[39m,\n",
      "  sumCases = \u001b[32mcol_double()\u001b[39m,\n",
      "  sumDeaths = \u001b[32mcol_double()\u001b[39m,\n",
      "  sumDestroyed = \u001b[32mcol_double()\u001b[39m,\n",
      "  sumSlaughtered = \u001b[32mcol_double()\u001b[39m,\n",
      "  humansAge = \u001b[32mcol_double()\u001b[39m,\n",
      "  humansAffected = \u001b[32mcol_double()\u001b[39m,\n",
      "  humansDeaths = \u001b[32mcol_double()\u001b[39m\n",
      ")\n",
      "\u001b[36mi\u001b[39m Use \u001b[38;5;235m\u001b[48;5;253m\u001b[38;5;235m\u001b[48;5;253m`spec()`\u001b[48;5;253m\u001b[38;5;235m\u001b[49m\u001b[39m for the full column specifications.\n",
      "\n"
     ]
    }
   ],
   "source": [
    "data <- read_csv(\"src/animal_diseases/data.csv\")"
   ]
  },
  {
   "cell_type": "code",
   "execution_count": 3,
   "id": "f07cc32c",
   "metadata": {},
   "outputs": [],
   "source": [
    "set.seed(42)\n",
    "data <- data[sample(1:nrow(data)), ]"
   ]
  },
  {
   "cell_type": "code",
   "execution_count": 4,
   "id": "c4725957",
   "metadata": {},
   "outputs": [
    {
     "data": {
      "text/html": [
       "<table>\n",
       "<thead><tr><th scope=col>Id</th><th scope=col>source</th><th scope=col>latitude</th><th scope=col>longitude</th><th scope=col>region</th><th scope=col>country</th><th scope=col>admin1</th><th scope=col>localityName</th><th scope=col>localityQuality</th><th scope=col>observationDate</th><th scope=col>...</th><th scope=col>speciesDescription</th><th scope=col>sumAtRisk</th><th scope=col>sumCases</th><th scope=col>sumDeaths</th><th scope=col>sumDestroyed</th><th scope=col>sumSlaughtered</th><th scope=col>humansGenderDesc</th><th scope=col>humansAge</th><th scope=col>humansAffected</th><th scope=col>humansDeaths</th></tr></thead>\n",
       "<tbody>\n",
       "\t<tr><td>217744                    </td><td>OIE                       </td><td>46.26800                  </td><td>  5.065800                </td><td>Europe                    </td><td>France                    </td><td>Rhone-Alpes               </td><td>CONFRANCON                </td><td>Unknown                   </td><td>30/09/2016                </td><td>...                       </td><td>domestic, cattle          </td><td>  40                      </td><td>   2                      </td><td>   0                      </td><td>   0                      </td><td> 0                        </td><td>NA                        </td><td>NA                        </td><td>NA                        </td><td>NA                        </td></tr>\n",
       "\t<tr><td>226906                    </td><td>National authorities      </td><td>39.01444                  </td><td>100.665833                </td><td>Asia                      </td><td>China                     </td><td>Gansu Sheng               </td><td>Zhangye                   </td><td>Unknown                   </td><td>13/04/2017                </td><td>...                       </td><td>NA                        </td><td>  NA                      </td><td>  NA                      </td><td>  NA                      </td><td>  NA                      </td><td>NA                        </td><td>NA                        </td><td>NA                        </td><td> 1                        </td><td>NA                        </td></tr>\n",
       "\t<tr><td>207828                    </td><td>OIE                       </td><td>14.73860                  </td><td>107.608600                </td><td>Asia                      </td><td>Viet Nam                  </td><td>Kon Tum                   </td><td>Dak Xu                    </td><td>Exact                     </td><td>04/10/2015                </td><td>...                       </td><td>domestic, unspecified bird</td><td>2701                      </td><td>2685                      </td><td>1500                      </td><td>1201                      </td><td> 0                        </td><td>NA                        </td><td>NA                        </td><td>NA                        </td><td>NA                        </td></tr>\n",
       "\t<tr><td>218094                    </td><td>OIE                       </td><td>47.64087                  </td><td> 31.905330                </td><td>Europe                    </td><td>Ukraine                   </td><td>Mykolayivs'ka             </td><td>Kalynivka                 </td><td>Exact                     </td><td>13/10/2016                </td><td>...                       </td><td>domestic, swine           </td><td>  90                      </td><td>   4                      </td><td>   4                      </td><td>  86                      </td><td> 0                        </td><td>NA                        </td><td>NA                        </td><td>NA                        </td><td>NA                        </td></tr>\n",
       "\t<tr><td>215678                    </td><td>OIE                       </td><td>48.34070                  </td><td> 31.235900                </td><td>Europe                    </td><td>Ukraine                   </td><td>Kirovohrads'ka            </td><td>Khmelyove                 </td><td>Exact                     </td><td>14/08/2016                </td><td>...                       </td><td>domestic, swine           </td><td>  NA                      </td><td>   1                      </td><td>   1                      </td><td>   0                      </td><td> 0                        </td><td>NA                        </td><td>NA                        </td><td>NA                        </td><td>NA                        </td></tr>\n",
       "\t<tr><td>210658                    </td><td>OIE                       </td><td>47.97034                  </td><td>  3.255003                </td><td>Europe                    </td><td>France                    </td><td>Bourgogne                 </td><td>PRECY-SUR-VRIN            </td><td>Exact                     </td><td>10/02/2016                </td><td>...                       </td><td>domestic, cattle          </td><td> 258                      </td><td>   1                      </td><td>   0                      </td><td>   0                      </td><td> 0                        </td><td>NA                        </td><td>NA                        </td><td>NA                        </td><td>NA                        </td></tr>\n",
       "</tbody>\n",
       "</table>\n"
      ],
      "text/latex": [
       "\\begin{tabular}{r|llllllllllllllllllllllll}\n",
       " Id & source & latitude & longitude & region & country & admin1 & localityName & localityQuality & observationDate & ... & speciesDescription & sumAtRisk & sumCases & sumDeaths & sumDestroyed & sumSlaughtered & humansGenderDesc & humansAge & humansAffected & humansDeaths\\\\\n",
       "\\hline\n",
       "\t 217744                     & OIE                        & 46.26800                   &   5.065800                 & Europe                     & France                     & Rhone-Alpes                & CONFRANCON                 & Unknown                    & 30/09/2016                 & ...                        & domestic, cattle           &   40                       &    2                       &    0                       &    0                       &  0                         & NA                         & NA                         & NA                         & NA                        \\\\\n",
       "\t 226906                     & National authorities       & 39.01444                   & 100.665833                 & Asia                       & China                      & Gansu Sheng                & Zhangye                    & Unknown                    & 13/04/2017                 & ...                        & NA                         &   NA                       &   NA                       &   NA                       &   NA                       & NA                         & NA                         & NA                         &  1                         & NA                        \\\\\n",
       "\t 207828                     & OIE                        & 14.73860                   & 107.608600                 & Asia                       & Viet Nam                   & Kon Tum                    & Dak Xu                     & Exact                      & 04/10/2015                 & ...                        & domestic, unspecified bird & 2701                       & 2685                       & 1500                       & 1201                       &  0                         & NA                         & NA                         & NA                         & NA                        \\\\\n",
       "\t 218094                     & OIE                        & 47.64087                   &  31.905330                 & Europe                     & Ukraine                    & Mykolayivs'ka              & Kalynivka                  & Exact                      & 13/10/2016                 & ...                        & domestic, swine            &   90                       &    4                       &    4                       &   86                       &  0                         & NA                         & NA                         & NA                         & NA                        \\\\\n",
       "\t 215678                     & OIE                        & 48.34070                   &  31.235900                 & Europe                     & Ukraine                    & Kirovohrads'ka             & Khmelyove                  & Exact                      & 14/08/2016                 & ...                        & domestic, swine            &   NA                       &    1                       &    1                       &    0                       &  0                         & NA                         & NA                         & NA                         & NA                        \\\\\n",
       "\t 210658                     & OIE                        & 47.97034                   &   3.255003                 & Europe                     & France                     & Bourgogne                  & PRECY-SUR-VRIN             & Exact                      & 10/02/2016                 & ...                        & domestic, cattle           &  258                       &    1                       &    0                       &    0                       &  0                         & NA                         & NA                         & NA                         & NA                        \\\\\n",
       "\\end{tabular}\n"
      ],
      "text/markdown": [
       "\n",
       "| Id | source | latitude | longitude | region | country | admin1 | localityName | localityQuality | observationDate | ... | speciesDescription | sumAtRisk | sumCases | sumDeaths | sumDestroyed | sumSlaughtered | humansGenderDesc | humansAge | humansAffected | humansDeaths |\n",
       "|---|---|---|---|---|---|---|---|---|---|---|---|---|---|---|---|---|---|---|---|---|\n",
       "| 217744                     | OIE                        | 46.26800                   |   5.065800                 | Europe                     | France                     | Rhone-Alpes                | CONFRANCON                 | Unknown                    | 30/09/2016                 | ...                        | domestic, cattle           |   40                       |    2                       |    0                       |    0                       |  0                         | NA                         | NA                         | NA                         | NA                         |\n",
       "| 226906                     | National authorities       | 39.01444                   | 100.665833                 | Asia                       | China                      | Gansu Sheng                | Zhangye                    | Unknown                    | 13/04/2017                 | ...                        | NA                         |   NA                       |   NA                       |   NA                       |   NA                       | NA                         | NA                         | NA                         |  1                         | NA                         |\n",
       "| 207828                     | OIE                        | 14.73860                   | 107.608600                 | Asia                       | Viet Nam                   | Kon Tum                    | Dak Xu                     | Exact                      | 04/10/2015                 | ...                        | domestic, unspecified bird | 2701                       | 2685                       | 1500                       | 1201                       |  0                         | NA                         | NA                         | NA                         | NA                         |\n",
       "| 218094                     | OIE                        | 47.64087                   |  31.905330                 | Europe                     | Ukraine                    | Mykolayivs'ka              | Kalynivka                  | Exact                      | 13/10/2016                 | ...                        | domestic, swine            |   90                       |    4                       |    4                       |   86                       |  0                         | NA                         | NA                         | NA                         | NA                         |\n",
       "| 215678                     | OIE                        | 48.34070                   |  31.235900                 | Europe                     | Ukraine                    | Kirovohrads'ka             | Khmelyove                  | Exact                      | 14/08/2016                 | ...                        | domestic, swine            |   NA                       |    1                       |    1                       |    0                       |  0                         | NA                         | NA                         | NA                         | NA                         |\n",
       "| 210658                     | OIE                        | 47.97034                   |   3.255003                 | Europe                     | France                     | Bourgogne                  | PRECY-SUR-VRIN             | Exact                      | 10/02/2016                 | ...                        | domestic, cattle           |  258                       |    1                       |    0                       |    0                       |  0                         | NA                         | NA                         | NA                         | NA                         |\n",
       "\n"
      ],
      "text/plain": [
       "  Id     source               latitude longitude  region country \n",
       "1 217744 OIE                  46.26800   5.065800 Europe France  \n",
       "2 226906 National authorities 39.01444 100.665833 Asia   China   \n",
       "3 207828 OIE                  14.73860 107.608600 Asia   Viet Nam\n",
       "4 218094 OIE                  47.64087  31.905330 Europe Ukraine \n",
       "5 215678 OIE                  48.34070  31.235900 Europe Ukraine \n",
       "6 210658 OIE                  47.97034   3.255003 Europe France  \n",
       "  admin1         localityName   localityQuality observationDate ...\n",
       "1 Rhone-Alpes    CONFRANCON     Unknown         30/09/2016      ...\n",
       "2 Gansu Sheng    Zhangye        Unknown         13/04/2017      ...\n",
       "3 Kon Tum        Dak Xu         Exact           04/10/2015      ...\n",
       "4 Mykolayivs'ka  Kalynivka      Exact           13/10/2016      ...\n",
       "5 Kirovohrads'ka Khmelyove      Exact           14/08/2016      ...\n",
       "6 Bourgogne      PRECY-SUR-VRIN Exact           10/02/2016      ...\n",
       "  speciesDescription         sumAtRisk sumCases sumDeaths sumDestroyed\n",
       "1 domestic, cattle             40         2        0         0        \n",
       "2 NA                           NA        NA       NA        NA        \n",
       "3 domestic, unspecified bird 2701      2685     1500      1201        \n",
       "4 domestic, swine              90         4        4        86        \n",
       "5 domestic, swine              NA         1        1         0        \n",
       "6 domestic, cattle            258         1        0         0        \n",
       "  sumSlaughtered humansGenderDesc humansAge humansAffected humansDeaths\n",
       "1  0             NA               NA        NA             NA          \n",
       "2 NA             NA               NA         1             NA          \n",
       "3  0             NA               NA        NA             NA          \n",
       "4  0             NA               NA        NA             NA          \n",
       "5  0             NA               NA        NA             NA          \n",
       "6  0             NA               NA        NA             NA          "
      ]
     },
     "metadata": {},
     "output_type": "display_data"
    }
   ],
   "source": [
    "head(data)"
   ]
  },
  {
   "cell_type": "code",
   "execution_count": 5,
   "id": "82684883",
   "metadata": {},
   "outputs": [],
   "source": [
    "train_data <- data %>% select(-starts_with(\"human\"))"
   ]
  },
  {
   "cell_type": "code",
   "execution_count": 6,
   "id": "69f6be9f",
   "metadata": {},
   "outputs": [],
   "source": [
    "train_label <- data %>% select(humansAffected) %>% is.na() %>% magrittr::not()"
   ]
  },
  {
   "cell_type": "code",
   "execution_count": 7,
   "id": "0b082244",
   "metadata": {},
   "outputs": [
    {
     "data": {
      "text/html": [
       "<table>\n",
       "<thead><tr><th scope=col>humansAffected</th></tr></thead>\n",
       "<tbody>\n",
       "\t<tr><td>FALSE</td></tr>\n",
       "\t<tr><td> TRUE</td></tr>\n",
       "\t<tr><td>FALSE</td></tr>\n",
       "\t<tr><td>FALSE</td></tr>\n",
       "\t<tr><td>FALSE</td></tr>\n",
       "\t<tr><td>FALSE</td></tr>\n",
       "</tbody>\n",
       "</table>\n"
      ],
      "text/latex": [
       "\\begin{tabular}{l}\n",
       " humansAffected\\\\\n",
       "\\hline\n",
       "\t FALSE\\\\\n",
       "\t  TRUE\\\\\n",
       "\t FALSE\\\\\n",
       "\t FALSE\\\\\n",
       "\t FALSE\\\\\n",
       "\t FALSE\\\\\n",
       "\\end{tabular}\n"
      ],
      "text/markdown": [
       "\n",
       "| humansAffected |\n",
       "|---|\n",
       "| FALSE |\n",
       "|  TRUE |\n",
       "| FALSE |\n",
       "| FALSE |\n",
       "| FALSE |\n",
       "| FALSE |\n",
       "\n"
      ],
      "text/plain": [
       "     humansAffected\n",
       "[1,] FALSE         \n",
       "[2,]  TRUE         \n",
       "[3,] FALSE         \n",
       "[4,] FALSE         \n",
       "[5,] FALSE         \n",
       "[6,] FALSE         "
      ]
     },
     "metadata": {},
     "output_type": "display_data"
    }
   ],
   "source": [
    "head(train_label)"
   ]
  },
  {
   "cell_type": "code",
   "execution_count": 8,
   "id": "bd714f28",
   "metadata": {},
   "outputs": [],
   "source": [
    "train_data_only_numeric <- train_data %>% select(-Id) %>% select(-c(latitude, longitude)) %>% select_if(is.numeric)"
   ]
  },
  {
   "cell_type": "code",
   "execution_count": 9,
   "id": "f10dc6f3",
   "metadata": {},
   "outputs": [
    {
     "name": "stdout",
     "output_type": "stream",
     "text": [
      "tibble[,5] [17,008 x 5] (S3: tbl_df/tbl/data.frame)\n",
      " $ sumAtRisk     : num [1:17008] 40 NA 2701 90 NA ...\n",
      " $ sumCases      : num [1:17008] 2 NA 2685 4 1 ...\n",
      " $ sumDeaths     : num [1:17008] 0 NA 1500 4 1 ...\n",
      " $ sumDestroyed  : num [1:17008] 0 NA 1201 86 0 ...\n",
      " $ sumSlaughtered: num [1:17008] 0 NA 0 0 0 0 0 465 0 NA ...\n"
     ]
    }
   ],
   "source": [
    "str(train_data_only_numeric)"
   ]
  },
  {
   "cell_type": "code",
   "execution_count": 10,
   "id": "b063370f",
   "metadata": {},
   "outputs": [],
   "source": [
    "region <- model.matrix(~country-1, data)"
   ]
  },
  {
   "cell_type": "code",
   "execution_count": 11,
   "id": "c8752477",
   "metadata": {},
   "outputs": [
    {
     "data": {
      "text/html": [
       "122"
      ],
      "text/latex": [
       "122"
      ],
      "text/markdown": [
       "122"
      ],
      "text/plain": [
       "[1] 122"
      ]
     },
     "metadata": {},
     "output_type": "display_data"
    }
   ],
   "source": [
    "ncol(region)"
   ]
  },
  {
   "cell_type": "code",
   "execution_count": 12,
   "id": "4f262675",
   "metadata": {},
   "outputs": [
    {
     "data": {
      "text/html": [
       "<table>\n",
       "<thead><tr><th scope=col>countryAlbania</th><th scope=col>countryAlgeria</th><th scope=col>countryAngola</th><th scope=col>countryArgentina</th><th scope=col>countryArmenia</th><th scope=col>countryAustria</th><th scope=col>countryBahrain</th><th scope=col>countryBangladesh</th><th scope=col>countryBelgium</th><th scope=col>countryBelize</th><th scope=col>...</th><th scope=col>countryUganda</th><th scope=col>countryUkraine</th><th scope=col>countryUnited Arab Emirates</th><th scope=col>countryUnited Republic of Tanzania</th><th scope=col>countryUnited States of America</th><th scope=col>countryUruguay</th><th scope=col>countryViet Nam</th><th scope=col>countryWest Bank</th><th scope=col>countryZambia</th><th scope=col>countryZimbabwe</th></tr></thead>\n",
       "<tbody>\n",
       "\t<tr><td>0  </td><td>0  </td><td>0  </td><td>0  </td><td>0  </td><td>0  </td><td>0  </td><td>0  </td><td>0  </td><td>0  </td><td>...</td><td>0  </td><td>0  </td><td>0  </td><td>0  </td><td>0  </td><td>0  </td><td>0  </td><td>0  </td><td>0  </td><td>0  </td></tr>\n",
       "\t<tr><td>0  </td><td>0  </td><td>0  </td><td>0  </td><td>0  </td><td>0  </td><td>0  </td><td>0  </td><td>0  </td><td>0  </td><td>...</td><td>0  </td><td>0  </td><td>0  </td><td>0  </td><td>0  </td><td>0  </td><td>0  </td><td>0  </td><td>0  </td><td>0  </td></tr>\n",
       "\t<tr><td>0  </td><td>0  </td><td>0  </td><td>0  </td><td>0  </td><td>0  </td><td>0  </td><td>0  </td><td>0  </td><td>0  </td><td>...</td><td>0  </td><td>0  </td><td>0  </td><td>0  </td><td>0  </td><td>0  </td><td>1  </td><td>0  </td><td>0  </td><td>0  </td></tr>\n",
       "\t<tr><td>0  </td><td>0  </td><td>0  </td><td>0  </td><td>0  </td><td>0  </td><td>0  </td><td>0  </td><td>0  </td><td>0  </td><td>...</td><td>0  </td><td>1  </td><td>0  </td><td>0  </td><td>0  </td><td>0  </td><td>0  </td><td>0  </td><td>0  </td><td>0  </td></tr>\n",
       "\t<tr><td>0  </td><td>0  </td><td>0  </td><td>0  </td><td>0  </td><td>0  </td><td>0  </td><td>0  </td><td>0  </td><td>0  </td><td>...</td><td>0  </td><td>1  </td><td>0  </td><td>0  </td><td>0  </td><td>0  </td><td>0  </td><td>0  </td><td>0  </td><td>0  </td></tr>\n",
       "\t<tr><td>0  </td><td>0  </td><td>0  </td><td>0  </td><td>0  </td><td>0  </td><td>0  </td><td>0  </td><td>0  </td><td>0  </td><td>...</td><td>0  </td><td>0  </td><td>0  </td><td>0  </td><td>0  </td><td>0  </td><td>0  </td><td>0  </td><td>0  </td><td>0  </td></tr>\n",
       "</tbody>\n",
       "</table>\n"
      ],
      "text/latex": [
       "\\begin{tabular}{r|llllllllllllllllllllllllllllllllllllllllllllllllllllllllllllllllllllllllllllllllllllllllllllllllllllllllllllllllllllllllll}\n",
       " countryAlbania & countryAlgeria & countryAngola & countryArgentina & countryArmenia & countryAustria & countryBahrain & countryBangladesh & countryBelgium & countryBelize & ... & countryUganda & countryUkraine & countryUnited Arab Emirates & countryUnited Republic of Tanzania & countryUnited States of America & countryUruguay & countryViet Nam & countryWest Bank & countryZambia & countryZimbabwe\\\\\n",
       "\\hline\n",
       "\t 0   & 0   & 0   & 0   & 0   & 0   & 0   & 0   & 0   & 0   & ... & 0   & 0   & 0   & 0   & 0   & 0   & 0   & 0   & 0   & 0  \\\\\n",
       "\t 0   & 0   & 0   & 0   & 0   & 0   & 0   & 0   & 0   & 0   & ... & 0   & 0   & 0   & 0   & 0   & 0   & 0   & 0   & 0   & 0  \\\\\n",
       "\t 0   & 0   & 0   & 0   & 0   & 0   & 0   & 0   & 0   & 0   & ... & 0   & 0   & 0   & 0   & 0   & 0   & 1   & 0   & 0   & 0  \\\\\n",
       "\t 0   & 0   & 0   & 0   & 0   & 0   & 0   & 0   & 0   & 0   & ... & 0   & 1   & 0   & 0   & 0   & 0   & 0   & 0   & 0   & 0  \\\\\n",
       "\t 0   & 0   & 0   & 0   & 0   & 0   & 0   & 0   & 0   & 0   & ... & 0   & 1   & 0   & 0   & 0   & 0   & 0   & 0   & 0   & 0  \\\\\n",
       "\t 0   & 0   & 0   & 0   & 0   & 0   & 0   & 0   & 0   & 0   & ... & 0   & 0   & 0   & 0   & 0   & 0   & 0   & 0   & 0   & 0  \\\\\n",
       "\\end{tabular}\n"
      ],
      "text/markdown": [
       "\n",
       "| countryAlbania | countryAlgeria | countryAngola | countryArgentina | countryArmenia | countryAustria | countryBahrain | countryBangladesh | countryBelgium | countryBelize | ... | countryUganda | countryUkraine | countryUnited Arab Emirates | countryUnited Republic of Tanzania | countryUnited States of America | countryUruguay | countryViet Nam | countryWest Bank | countryZambia | countryZimbabwe |\n",
       "|---|---|---|---|---|---|---|---|---|---|---|---|---|---|---|---|---|---|---|---|---|\n",
       "| 0   | 0   | 0   | 0   | 0   | 0   | 0   | 0   | 0   | 0   | ... | 0   | 0   | 0   | 0   | 0   | 0   | 0   | 0   | 0   | 0   |\n",
       "| 0   | 0   | 0   | 0   | 0   | 0   | 0   | 0   | 0   | 0   | ... | 0   | 0   | 0   | 0   | 0   | 0   | 0   | 0   | 0   | 0   |\n",
       "| 0   | 0   | 0   | 0   | 0   | 0   | 0   | 0   | 0   | 0   | ... | 0   | 0   | 0   | 0   | 0   | 0   | 1   | 0   | 0   | 0   |\n",
       "| 0   | 0   | 0   | 0   | 0   | 0   | 0   | 0   | 0   | 0   | ... | 0   | 1   | 0   | 0   | 0   | 0   | 0   | 0   | 0   | 0   |\n",
       "| 0   | 0   | 0   | 0   | 0   | 0   | 0   | 0   | 0   | 0   | ... | 0   | 1   | 0   | 0   | 0   | 0   | 0   | 0   | 0   | 0   |\n",
       "| 0   | 0   | 0   | 0   | 0   | 0   | 0   | 0   | 0   | 0   | ... | 0   | 0   | 0   | 0   | 0   | 0   | 0   | 0   | 0   | 0   |\n",
       "\n"
      ],
      "text/plain": [
       "  countryAlbania countryAlgeria countryAngola countryArgentina countryArmenia\n",
       "1 0              0              0             0                0             \n",
       "2 0              0              0             0                0             \n",
       "3 0              0              0             0                0             \n",
       "4 0              0              0             0                0             \n",
       "5 0              0              0             0                0             \n",
       "6 0              0              0             0                0             \n",
       "  countryAustria countryBahrain countryBangladesh countryBelgium countryBelize\n",
       "1 0              0              0                 0              0            \n",
       "2 0              0              0                 0              0            \n",
       "3 0              0              0                 0              0            \n",
       "4 0              0              0                 0              0            \n",
       "5 0              0              0                 0              0            \n",
       "6 0              0              0                 0              0            \n",
       "  ... countryUganda countryUkraine countryUnited Arab Emirates\n",
       "1 ... 0             0              0                          \n",
       "2 ... 0             0              0                          \n",
       "3 ... 0             0              0                          \n",
       "4 ... 0             1              0                          \n",
       "5 ... 0             1              0                          \n",
       "6 ... 0             0              0                          \n",
       "  countryUnited Republic of Tanzania countryUnited States of America\n",
       "1 0                                  0                              \n",
       "2 0                                  0                              \n",
       "3 0                                  0                              \n",
       "4 0                                  0                              \n",
       "5 0                                  0                              \n",
       "6 0                                  0                              \n",
       "  countryUruguay countryViet Nam countryWest Bank countryZambia countryZimbabwe\n",
       "1 0              0               0                0             0              \n",
       "2 0              0               0                0             0              \n",
       "3 0              1               0                0             0              \n",
       "4 0              0               0                0             0              \n",
       "5 0              0               0                0             0              \n",
       "6 0              0               0                0             0              "
      ]
     },
     "metadata": {},
     "output_type": "display_data"
    }
   ],
   "source": [
    "head(region)"
   ]
  },
  {
   "cell_type": "code",
   "execution_count": 13,
   "id": "d0bc126e",
   "metadata": {},
   "outputs": [
    {
     "data": {
      "text/html": [
       "<ol class=list-inline>\n",
       "\t<li>'domestic, cattle'</li>\n",
       "\t<li>NA</li>\n",
       "\t<li>'domestic, unspecified bird'</li>\n",
       "\t<li>'domestic, swine'</li>\n",
       "\t<li>'domestic, swine'</li>\n",
       "\t<li>'domestic, cattle'</li>\n",
       "</ol>\n"
      ],
      "text/latex": [
       "\\begin{enumerate*}\n",
       "\\item 'domestic, cattle'\n",
       "\\item NA\n",
       "\\item 'domestic, unspecified bird'\n",
       "\\item 'domestic, swine'\n",
       "\\item 'domestic, swine'\n",
       "\\item 'domestic, cattle'\n",
       "\\end{enumerate*}\n"
      ],
      "text/markdown": [
       "1. 'domestic, cattle'\n",
       "2. NA\n",
       "3. 'domestic, unspecified bird'\n",
       "4. 'domestic, swine'\n",
       "5. 'domestic, swine'\n",
       "6. 'domestic, cattle'\n",
       "\n",
       "\n"
      ],
      "text/plain": [
       "[1] \"domestic, cattle\"           NA                          \n",
       "[3] \"domestic, unspecified bird\" \"domestic, swine\"           \n",
       "[5] \"domestic, swine\"            \"domestic, cattle\"          "
      ]
     },
     "metadata": {},
     "output_type": "display_data"
    }
   ],
   "source": [
    "head(data$speciesDescription)"
   ]
  },
  {
   "cell_type": "code",
   "execution_count": 14,
   "id": "892bdfd3",
   "metadata": {},
   "outputs": [],
   "source": [
    "train_data_only_numeric$is_domestic <- str_detect(data$speciesDescription, \"domestic\")"
   ]
  },
  {
   "cell_type": "code",
   "execution_count": 15,
   "id": "4a84ae53",
   "metadata": {},
   "outputs": [
    {
     "data": {
      "text/html": [
       "<ol class=list-inline>\n",
       "\t<li>TRUE</li>\n",
       "\t<li>&lt;NA&gt;</li>\n",
       "\t<li>TRUE</li>\n",
       "\t<li>TRUE</li>\n",
       "\t<li>TRUE</li>\n",
       "\t<li>TRUE</li>\n",
       "</ol>\n"
      ],
      "text/latex": [
       "\\begin{enumerate*}\n",
       "\\item TRUE\n",
       "\\item <NA>\n",
       "\\item TRUE\n",
       "\\item TRUE\n",
       "\\item TRUE\n",
       "\\item TRUE\n",
       "\\end{enumerate*}\n"
      ],
      "text/markdown": [
       "1. TRUE\n",
       "2. &lt;NA&gt;\n",
       "3. TRUE\n",
       "4. TRUE\n",
       "5. TRUE\n",
       "6. TRUE\n",
       "\n",
       "\n"
      ],
      "text/plain": [
       "[1] TRUE   NA TRUE TRUE TRUE TRUE"
      ]
     },
     "metadata": {},
     "output_type": "display_data"
    }
   ],
   "source": [
    "head(train_data_only_numeric$is_domestic)"
   ]
  },
  {
   "cell_type": "code",
   "execution_count": 16,
   "id": "754ece3b",
   "metadata": {},
   "outputs": [],
   "source": [
    "species_list <- data$speciesDescription %>% str_replace(\"[[:punct:]]\", \"\") %>% str_extract(\"[a-z]*$\")"
   ]
  },
  {
   "cell_type": "code",
   "execution_count": 17,
   "id": "1aee3f39",
   "metadata": {},
   "outputs": [],
   "source": [
    "speciesList <- tibble(species = species_list)"
   ]
  },
  {
   "cell_type": "code",
   "execution_count": 18,
   "id": "84b2a9fb",
   "metadata": {},
   "outputs": [],
   "source": [
    "options(na.action='na.pass')\n",
    "species <- model.matrix(~species-1, speciesList)"
   ]
  },
  {
   "cell_type": "code",
   "execution_count": 19,
   "id": "16936020",
   "metadata": {},
   "outputs": [
    {
     "data": {
      "text/html": [
       "<table>\n",
       "<thead><tr><th scope=col>species</th><th scope=col>speciesanatidae</th><th scope=col>speciesbird</th><th scope=col>speciesboar</th><th scope=col>speciesbuffaloe</th><th scope=col>speciesbuzzard</th><th scope=col>speciescamelidae</th><th scope=col>speciescanine</th><th scope=col>speciescat</th><th scope=col>speciescattle</th><th scope=col>...</th><th scope=col>speciessheep</th><th scope=col>speciesstarling</th><th scope=col>speciesstork</th><th scope=col>speciesswan</th><th scope=col>speciesswine</th><th scope=col>speciesteal</th><th scope=col>speciesturkey</th><th scope=col>specieswigeon</th><th scope=col>speciesxpeacock</th><th scope=col>speciesyaks</th></tr></thead>\n",
       "<tbody>\n",
       "\t<tr><td> 0 </td><td> 0 </td><td> 0 </td><td> 0 </td><td> 0 </td><td> 0 </td><td> 0 </td><td> 0 </td><td> 0 </td><td> 1 </td><td>...</td><td> 0 </td><td> 0 </td><td> 0 </td><td> 0 </td><td> 0 </td><td> 0 </td><td> 0 </td><td> 0 </td><td> 0 </td><td> 0 </td></tr>\n",
       "\t<tr><td>NA </td><td>NA </td><td>NA </td><td>NA </td><td>NA </td><td>NA </td><td>NA </td><td>NA </td><td>NA </td><td>NA </td><td>...</td><td>NA </td><td>NA </td><td>NA </td><td>NA </td><td>NA </td><td>NA </td><td>NA </td><td>NA </td><td>NA </td><td>NA </td></tr>\n",
       "\t<tr><td> 0 </td><td> 0 </td><td> 1 </td><td> 0 </td><td> 0 </td><td> 0 </td><td> 0 </td><td> 0 </td><td> 0 </td><td> 0 </td><td>...</td><td> 0 </td><td> 0 </td><td> 0 </td><td> 0 </td><td> 0 </td><td> 0 </td><td> 0 </td><td> 0 </td><td> 0 </td><td> 0 </td></tr>\n",
       "\t<tr><td> 0 </td><td> 0 </td><td> 0 </td><td> 0 </td><td> 0 </td><td> 0 </td><td> 0 </td><td> 0 </td><td> 0 </td><td> 0 </td><td>...</td><td> 0 </td><td> 0 </td><td> 0 </td><td> 0 </td><td> 1 </td><td> 0 </td><td> 0 </td><td> 0 </td><td> 0 </td><td> 0 </td></tr>\n",
       "\t<tr><td> 0 </td><td> 0 </td><td> 0 </td><td> 0 </td><td> 0 </td><td> 0 </td><td> 0 </td><td> 0 </td><td> 0 </td><td> 0 </td><td>...</td><td> 0 </td><td> 0 </td><td> 0 </td><td> 0 </td><td> 1 </td><td> 0 </td><td> 0 </td><td> 0 </td><td> 0 </td><td> 0 </td></tr>\n",
       "\t<tr><td> 0 </td><td> 0 </td><td> 0 </td><td> 0 </td><td> 0 </td><td> 0 </td><td> 0 </td><td> 0 </td><td> 0 </td><td> 1 </td><td>...</td><td> 0 </td><td> 0 </td><td> 0 </td><td> 0 </td><td> 0 </td><td> 0 </td><td> 0 </td><td> 0 </td><td> 0 </td><td> 0 </td></tr>\n",
       "</tbody>\n",
       "</table>\n"
      ],
      "text/latex": [
       "\\begin{tabular}{r|lllllllllllllllllllllllllllllllllllllllllllllllllllllllllllllllllllll}\n",
       " species & speciesanatidae & speciesbird & speciesboar & speciesbuffaloe & speciesbuzzard & speciescamelidae & speciescanine & speciescat & speciescattle & ... & speciessheep & speciesstarling & speciesstork & speciesswan & speciesswine & speciesteal & speciesturkey & specieswigeon & speciesxpeacock & speciesyaks\\\\\n",
       "\\hline\n",
       "\t  0  &  0  &  0  &  0  &  0  &  0  &  0  &  0  &  0  &  1  & ... &  0  &  0  &  0  &  0  &  0  &  0  &  0  &  0  &  0  &  0 \\\\\n",
       "\t NA  & NA  & NA  & NA  & NA  & NA  & NA  & NA  & NA  & NA  & ... & NA  & NA  & NA  & NA  & NA  & NA  & NA  & NA  & NA  & NA \\\\\n",
       "\t  0  &  0  &  1  &  0  &  0  &  0  &  0  &  0  &  0  &  0  & ... &  0  &  0  &  0  &  0  &  0  &  0  &  0  &  0  &  0  &  0 \\\\\n",
       "\t  0  &  0  &  0  &  0  &  0  &  0  &  0  &  0  &  0  &  0  & ... &  0  &  0  &  0  &  0  &  1  &  0  &  0  &  0  &  0  &  0 \\\\\n",
       "\t  0  &  0  &  0  &  0  &  0  &  0  &  0  &  0  &  0  &  0  & ... &  0  &  0  &  0  &  0  &  1  &  0  &  0  &  0  &  0  &  0 \\\\\n",
       "\t  0  &  0  &  0  &  0  &  0  &  0  &  0  &  0  &  0  &  1  & ... &  0  &  0  &  0  &  0  &  0  &  0  &  0  &  0  &  0  &  0 \\\\\n",
       "\\end{tabular}\n"
      ],
      "text/markdown": [
       "\n",
       "| species | speciesanatidae | speciesbird | speciesboar | speciesbuffaloe | speciesbuzzard | speciescamelidae | speciescanine | speciescat | speciescattle | ... | speciessheep | speciesstarling | speciesstork | speciesswan | speciesswine | speciesteal | speciesturkey | specieswigeon | speciesxpeacock | speciesyaks |\n",
       "|---|---|---|---|---|---|---|---|---|---|---|---|---|---|---|---|---|---|---|---|---|\n",
       "|  0  |  0  |  0  |  0  |  0  |  0  |  0  |  0  |  0  |  1  | ... |  0  |  0  |  0  |  0  |  0  |  0  |  0  |  0  |  0  |  0  |\n",
       "| NA  | NA  | NA  | NA  | NA  | NA  | NA  | NA  | NA  | NA  | ... | NA  | NA  | NA  | NA  | NA  | NA  | NA  | NA  | NA  | NA  |\n",
       "|  0  |  0  |  1  |  0  |  0  |  0  |  0  |  0  |  0  |  0  | ... |  0  |  0  |  0  |  0  |  0  |  0  |  0  |  0  |  0  |  0  |\n",
       "|  0  |  0  |  0  |  0  |  0  |  0  |  0  |  0  |  0  |  0  | ... |  0  |  0  |  0  |  0  |  1  |  0  |  0  |  0  |  0  |  0  |\n",
       "|  0  |  0  |  0  |  0  |  0  |  0  |  0  |  0  |  0  |  0  | ... |  0  |  0  |  0  |  0  |  1  |  0  |  0  |  0  |  0  |  0  |\n",
       "|  0  |  0  |  0  |  0  |  0  |  0  |  0  |  0  |  0  |  1  | ... |  0  |  0  |  0  |  0  |  0  |  0  |  0  |  0  |  0  |  0  |\n",
       "\n"
      ],
      "text/plain": [
       "  species speciesanatidae speciesbird speciesboar speciesbuffaloe\n",
       "1  0       0               0           0           0             \n",
       "2 NA      NA              NA          NA          NA             \n",
       "3  0       0               1           0           0             \n",
       "4  0       0               0           0           0             \n",
       "5  0       0               0           0           0             \n",
       "6  0       0               0           0           0             \n",
       "  speciesbuzzard speciescamelidae speciescanine speciescat speciescattle ...\n",
       "1  0              0                0             0          1            ...\n",
       "2 NA             NA               NA            NA         NA            ...\n",
       "3  0              0                0             0          0            ...\n",
       "4  0              0                0             0          0            ...\n",
       "5  0              0                0             0          0            ...\n",
       "6  0              0                0             0          1            ...\n",
       "  speciessheep speciesstarling speciesstork speciesswan speciesswine\n",
       "1  0            0               0            0           0          \n",
       "2 NA           NA              NA           NA          NA          \n",
       "3  0            0               0            0           0          \n",
       "4  0            0               0            0           1          \n",
       "5  0            0               0            0           1          \n",
       "6  0            0               0            0           0          \n",
       "  speciesteal speciesturkey specieswigeon speciesxpeacock speciesyaks\n",
       "1  0           0             0             0               0         \n",
       "2 NA          NA            NA            NA              NA         \n",
       "3  0           0             0             0               0         \n",
       "4  0           0             0             0               0         \n",
       "5  0           0             0             0               0         \n",
       "6  0           0             0             0               0         "
      ]
     },
     "metadata": {},
     "output_type": "display_data"
    }
   ],
   "source": [
    "head(species)"
   ]
  },
  {
   "cell_type": "code",
   "execution_count": 20,
   "id": "bc021247",
   "metadata": {},
   "outputs": [],
   "source": [
    "train_data_only_numeric <- cbind(train_data_only_numeric, region, species)\n",
    "data_matrix <- data.matrix(train_data_only_numeric)"
   ]
  },
  {
   "cell_type": "code",
   "execution_count": 21,
   "id": "2ed10cb8",
   "metadata": {},
   "outputs": [
    {
     "data": {
      "text/html": [
       "<table>\n",
       "<thead><tr><th scope=col>sumAtRisk</th><th scope=col>sumCases</th><th scope=col>sumDeaths</th><th scope=col>sumDestroyed</th><th scope=col>sumSlaughtered</th><th scope=col>is_domestic</th><th scope=col>countryAlbania</th><th scope=col>countryAlgeria</th><th scope=col>countryAngola</th><th scope=col>countryArgentina</th><th scope=col>...</th><th scope=col>speciessheep</th><th scope=col>speciesstarling</th><th scope=col>speciesstork</th><th scope=col>speciesswan</th><th scope=col>speciesswine</th><th scope=col>speciesteal</th><th scope=col>speciesturkey</th><th scope=col>specieswigeon</th><th scope=col>speciesxpeacock</th><th scope=col>speciesyaks</th></tr></thead>\n",
       "<tbody>\n",
       "\t<tr><td>  40</td><td>   2</td><td>   0</td><td>   0</td><td> 0  </td><td> 1  </td><td>0   </td><td>0   </td><td>0   </td><td>0   </td><td>... </td><td> 0  </td><td> 0  </td><td> 0  </td><td> 0  </td><td> 0  </td><td> 0  </td><td> 0  </td><td> 0  </td><td> 0  </td><td> 0  </td></tr>\n",
       "\t<tr><td>  NA</td><td>  NA</td><td>  NA</td><td>  NA</td><td>NA  </td><td>NA  </td><td>0   </td><td>0   </td><td>0   </td><td>0   </td><td>... </td><td>NA  </td><td>NA  </td><td>NA  </td><td>NA  </td><td>NA  </td><td>NA  </td><td>NA  </td><td>NA  </td><td>NA  </td><td>NA  </td></tr>\n",
       "\t<tr><td>2701</td><td>2685</td><td>1500</td><td>1201</td><td> 0  </td><td> 1  </td><td>0   </td><td>0   </td><td>0   </td><td>0   </td><td>... </td><td> 0  </td><td> 0  </td><td> 0  </td><td> 0  </td><td> 0  </td><td> 0  </td><td> 0  </td><td> 0  </td><td> 0  </td><td> 0  </td></tr>\n",
       "\t<tr><td>  90</td><td>   4</td><td>   4</td><td>  86</td><td> 0  </td><td> 1  </td><td>0   </td><td>0   </td><td>0   </td><td>0   </td><td>... </td><td> 0  </td><td> 0  </td><td> 0  </td><td> 0  </td><td> 1  </td><td> 0  </td><td> 0  </td><td> 0  </td><td> 0  </td><td> 0  </td></tr>\n",
       "\t<tr><td>  NA</td><td>   1</td><td>   1</td><td>   0</td><td> 0  </td><td> 1  </td><td>0   </td><td>0   </td><td>0   </td><td>0   </td><td>... </td><td> 0  </td><td> 0  </td><td> 0  </td><td> 0  </td><td> 1  </td><td> 0  </td><td> 0  </td><td> 0  </td><td> 0  </td><td> 0  </td></tr>\n",
       "\t<tr><td> 258</td><td>   1</td><td>   0</td><td>   0</td><td> 0  </td><td> 1  </td><td>0   </td><td>0   </td><td>0   </td><td>0   </td><td>... </td><td> 0  </td><td> 0  </td><td> 0  </td><td> 0  </td><td> 0  </td><td> 0  </td><td> 0  </td><td> 0  </td><td> 0  </td><td> 0  </td></tr>\n",
       "</tbody>\n",
       "</table>\n"
      ],
      "text/latex": [
       "\\begin{tabular}{r|lllllllllllllllllllllllllllllllllllllllllllllllllllllllllllllllllllllllllllllllllllllllllllllllllllllllllllllllllllllllllllllllllllllllllllllllllllllllllllllllllllllllllllllllllllllllllllllllllllll}\n",
       " sumAtRisk & sumCases & sumDeaths & sumDestroyed & sumSlaughtered & is\\_domestic & countryAlbania & countryAlgeria & countryAngola & countryArgentina & ... & speciessheep & speciesstarling & speciesstork & speciesswan & speciesswine & speciesteal & speciesturkey & specieswigeon & speciesxpeacock & speciesyaks\\\\\n",
       "\\hline\n",
       "\t   40 &    2 &    0 &    0 &  0   &  1   & 0    & 0    & 0    & 0    & ...  &  0   &  0   &  0   &  0   &  0   &  0   &  0   &  0   &  0   &  0  \\\\\n",
       "\t   NA &   NA &   NA &   NA & NA   & NA   & 0    & 0    & 0    & 0    & ...  & NA   & NA   & NA   & NA   & NA   & NA   & NA   & NA   & NA   & NA  \\\\\n",
       "\t 2701 & 2685 & 1500 & 1201 &  0   &  1   & 0    & 0    & 0    & 0    & ...  &  0   &  0   &  0   &  0   &  0   &  0   &  0   &  0   &  0   &  0  \\\\\n",
       "\t   90 &    4 &    4 &   86 &  0   &  1   & 0    & 0    & 0    & 0    & ...  &  0   &  0   &  0   &  0   &  1   &  0   &  0   &  0   &  0   &  0  \\\\\n",
       "\t   NA &    1 &    1 &    0 &  0   &  1   & 0    & 0    & 0    & 0    & ...  &  0   &  0   &  0   &  0   &  1   &  0   &  0   &  0   &  0   &  0  \\\\\n",
       "\t  258 &    1 &    0 &    0 &  0   &  1   & 0    & 0    & 0    & 0    & ...  &  0   &  0   &  0   &  0   &  0   &  0   &  0   &  0   &  0   &  0  \\\\\n",
       "\\end{tabular}\n"
      ],
      "text/markdown": [
       "\n",
       "| sumAtRisk | sumCases | sumDeaths | sumDestroyed | sumSlaughtered | is_domestic | countryAlbania | countryAlgeria | countryAngola | countryArgentina | ... | speciessheep | speciesstarling | speciesstork | speciesswan | speciesswine | speciesteal | speciesturkey | specieswigeon | speciesxpeacock | speciesyaks |\n",
       "|---|---|---|---|---|---|---|---|---|---|---|---|---|---|---|---|---|---|---|---|---|\n",
       "|   40 |    2 |    0 |    0 |  0   |  1   | 0    | 0    | 0    | 0    | ...  |  0   |  0   |  0   |  0   |  0   |  0   |  0   |  0   |  0   |  0   |\n",
       "|   NA |   NA |   NA |   NA | NA   | NA   | 0    | 0    | 0    | 0    | ...  | NA   | NA   | NA   | NA   | NA   | NA   | NA   | NA   | NA   | NA   |\n",
       "| 2701 | 2685 | 1500 | 1201 |  0   |  1   | 0    | 0    | 0    | 0    | ...  |  0   |  0   |  0   |  0   |  0   |  0   |  0   |  0   |  0   |  0   |\n",
       "|   90 |    4 |    4 |   86 |  0   |  1   | 0    | 0    | 0    | 0    | ...  |  0   |  0   |  0   |  0   |  1   |  0   |  0   |  0   |  0   |  0   |\n",
       "|   NA |    1 |    1 |    0 |  0   |  1   | 0    | 0    | 0    | 0    | ...  |  0   |  0   |  0   |  0   |  1   |  0   |  0   |  0   |  0   |  0   |\n",
       "|  258 |    1 |    0 |    0 |  0   |  1   | 0    | 0    | 0    | 0    | ...  |  0   |  0   |  0   |  0   |  0   |  0   |  0   |  0   |  0   |  0   |\n",
       "\n"
      ],
      "text/plain": [
       "  sumAtRisk sumCases sumDeaths sumDestroyed sumSlaughtered is_domestic\n",
       "1   40         2        0         0          0              1         \n",
       "2   NA        NA       NA        NA         NA             NA         \n",
       "3 2701      2685     1500      1201          0              1         \n",
       "4   90         4        4        86          0              1         \n",
       "5   NA         1        1         0          0              1         \n",
       "6  258         1        0         0          0              1         \n",
       "  countryAlbania countryAlgeria countryAngola countryArgentina ... speciessheep\n",
       "1 0              0              0             0                ...  0          \n",
       "2 0              0              0             0                ... NA          \n",
       "3 0              0              0             0                ...  0          \n",
       "4 0              0              0             0                ...  0          \n",
       "5 0              0              0             0                ...  0          \n",
       "6 0              0              0             0                ...  0          \n",
       "  speciesstarling speciesstork speciesswan speciesswine speciesteal\n",
       "1  0               0            0           0            0         \n",
       "2 NA              NA           NA          NA           NA         \n",
       "3  0               0            0           0            0         \n",
       "4  0               0            0           1            0         \n",
       "5  0               0            0           1            0         \n",
       "6  0               0            0           0            0         \n",
       "  speciesturkey specieswigeon speciesxpeacock speciesyaks\n",
       "1  0             0             0               0         \n",
       "2 NA            NA            NA              NA         \n",
       "3  0             0             0               0         \n",
       "4  0             0             0               0         \n",
       "5  0             0             0               0         \n",
       "6  0             0             0               0         "
      ]
     },
     "metadata": {},
     "output_type": "display_data"
    }
   ],
   "source": [
    "head(data_matrix)"
   ]
  },
  {
   "cell_type": "code",
   "execution_count": 22,
   "id": "58bfd256",
   "metadata": {},
   "outputs": [],
   "source": [
    "split <- round(length(train_label)*0.7)"
   ]
  },
  {
   "cell_type": "code",
   "execution_count": 23,
   "id": "61078c47",
   "metadata": {},
   "outputs": [],
   "source": [
    "train_data <- data_matrix[1:split,]\n",
    "train_labels <- train_label[1:split]\n",
    "\n",
    "test_data <- data_matrix[-(1:split), ]\n",
    "test_labels <- train_label[-(1:split)]"
   ]
  },
  {
   "cell_type": "code",
   "execution_count": 24,
   "id": "44c14184",
   "metadata": {},
   "outputs": [],
   "source": [
    "dtrain <- xgb.DMatrix(train_data, label = train_labels)\n",
    "dtest <- xgb.DMatrix(test_data, label = test_labels)"
   ]
  },
  {
   "cell_type": "code",
   "execution_count": 25,
   "id": "6bd7eff2",
   "metadata": {},
   "outputs": [],
   "source": [
    "eta <- .2\n",
    "max_depth <- 3\n",
    "nround <- 10\n",
    "neg = sum(train_labels == FALSE)\n",
    "pos = sum(train_labels == TRUE)"
   ]
  },
  {
   "cell_type": "code",
   "execution_count": 26,
   "id": "285a2e25",
   "metadata": {},
   "outputs": [
    {
     "name": "stdout",
     "output_type": "stream",
     "text": [
      "[1]\ttrain-error:0.016042 \n",
      "Will train until train_error hasn't improved in 3 rounds.\n",
      "\n",
      "[2]\ttrain-error:0.015370 \n",
      "[3]\ttrain-error:0.015370 \n",
      "[4]\ttrain-error:0.014698 \n",
      "[5]\ttrain-error:0.014698 \n",
      "[6]\ttrain-error:0.014614 \n",
      "[7]\ttrain-error:0.014698 \n",
      "[8]\ttrain-error:0.014698 \n",
      "[9]\ttrain-error:0.014698 \n",
      "Stopping. Best iteration:\n",
      "[6]\ttrain-error:0.014614\n",
      "\n"
     ]
    }
   ],
   "source": [
    "model <- xgboost(data = dtrain,\n",
    "                eta = eta,\n",
    "                max_depth = max_depth,\n",
    "                objective = \"binary:logistic\",\n",
    "                scale_pos_weight = neg/pos,\n",
    "                nround = nround,\n",
    "                early_stopping_rounds = 3,\n",
    "                eval_metric = 'error'\n",
    "                )"
   ]
  },
  {
   "cell_type": "code",
   "execution_count": 27,
   "id": "54e0d18b",
   "metadata": {},
   "outputs": [
    {
     "name": "stdout",
     "output_type": "stream",
     "text": [
      "[1] \"test-error= 0.0137201097608781\"\n"
     ]
    }
   ],
   "source": [
    "pred <- predict(model, dtest)\n",
    "\n",
    "err <- mean(as.numeric(pred > 0.5) != test_labels)\n",
    "print(paste(\"test-error=\", err))"
   ]
  }
 ],
 "metadata": {
  "kernelspec": {
   "display_name": "R",
   "language": "R",
   "name": "ir"
  },
  "language_info": {
   "codemirror_mode": "r",
   "file_extension": ".r",
   "mimetype": "text/x-r-source",
   "name": "R",
   "pygments_lexer": "r",
   "version": "3.6.1"
  }
 },
 "nbformat": 4,
 "nbformat_minor": 5
}
