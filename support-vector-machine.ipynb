{
 "cells": [
  {
   "cell_type": "code",
   "execution_count": 1,
   "id": "109b80e0",
   "metadata": {},
   "outputs": [
    {
     "name": "stderr",
     "output_type": "stream",
     "text": [
      "Warning message:\n",
      "\"package 'e1071' was built under R version 3.6.3\"Registered S3 methods overwritten by 'ggplot2':\n",
      "  method         from \n",
      "  [.quosures     rlang\n",
      "  c.quosures     rlang\n",
      "  print.quosures rlang\n",
      "Warning message:\n",
      "\"package 'class' was built under R version 3.6.3\"Warning message:\n",
      "\"package 'caret' was built under R version 3.6.3\"Loading required package: lattice\n"
     ]
    }
   ],
   "source": [
    "library(e1071)\n",
    "library(ggplot2)\n",
    "library(class)\n",
    "library(caret)"
   ]
  },
  {
   "cell_type": "code",
   "execution_count": 2,
   "id": "1515f785",
   "metadata": {},
   "outputs": [],
   "source": [
    "data(iris)"
   ]
  },
  {
   "cell_type": "code",
   "execution_count": 3,
   "id": "bccea25f",
   "metadata": {},
   "outputs": [
    {
     "data": {
      "text/html": [
       "<table>\n",
       "<thead><tr><th scope=col>Sepal.Length</th><th scope=col>Sepal.Width</th><th scope=col>Petal.Length</th><th scope=col>Petal.Width</th><th scope=col>Species</th></tr></thead>\n",
       "<tbody>\n",
       "\t<tr><td>5.1   </td><td>3.5   </td><td>1.4   </td><td>0.2   </td><td>setosa</td></tr>\n",
       "\t<tr><td>4.9   </td><td>3.0   </td><td>1.4   </td><td>0.2   </td><td>setosa</td></tr>\n",
       "\t<tr><td>4.7   </td><td>3.2   </td><td>1.3   </td><td>0.2   </td><td>setosa</td></tr>\n",
       "\t<tr><td>4.6   </td><td>3.1   </td><td>1.5   </td><td>0.2   </td><td>setosa</td></tr>\n",
       "\t<tr><td>5.0   </td><td>3.6   </td><td>1.4   </td><td>0.2   </td><td>setosa</td></tr>\n",
       "\t<tr><td>5.4   </td><td>3.9   </td><td>1.7   </td><td>0.4   </td><td>setosa</td></tr>\n",
       "</tbody>\n",
       "</table>\n"
      ],
      "text/latex": [
       "\\begin{tabular}{r|lllll}\n",
       " Sepal.Length & Sepal.Width & Petal.Length & Petal.Width & Species\\\\\n",
       "\\hline\n",
       "\t 5.1    & 3.5    & 1.4    & 0.2    & setosa\\\\\n",
       "\t 4.9    & 3.0    & 1.4    & 0.2    & setosa\\\\\n",
       "\t 4.7    & 3.2    & 1.3    & 0.2    & setosa\\\\\n",
       "\t 4.6    & 3.1    & 1.5    & 0.2    & setosa\\\\\n",
       "\t 5.0    & 3.6    & 1.4    & 0.2    & setosa\\\\\n",
       "\t 5.4    & 3.9    & 1.7    & 0.4    & setosa\\\\\n",
       "\\end{tabular}\n"
      ],
      "text/markdown": [
       "\n",
       "| Sepal.Length | Sepal.Width | Petal.Length | Petal.Width | Species |\n",
       "|---|---|---|---|---|\n",
       "| 5.1    | 3.5    | 1.4    | 0.2    | setosa |\n",
       "| 4.9    | 3.0    | 1.4    | 0.2    | setosa |\n",
       "| 4.7    | 3.2    | 1.3    | 0.2    | setosa |\n",
       "| 4.6    | 3.1    | 1.5    | 0.2    | setosa |\n",
       "| 5.0    | 3.6    | 1.4    | 0.2    | setosa |\n",
       "| 5.4    | 3.9    | 1.7    | 0.4    | setosa |\n",
       "\n"
      ],
      "text/plain": [
       "  Sepal.Length Sepal.Width Petal.Length Petal.Width Species\n",
       "1 5.1          3.5         1.4          0.2         setosa \n",
       "2 4.9          3.0         1.4          0.2         setosa \n",
       "3 4.7          3.2         1.3          0.2         setosa \n",
       "4 4.6          3.1         1.5          0.2         setosa \n",
       "5 5.0          3.6         1.4          0.2         setosa \n",
       "6 5.4          3.9         1.7          0.4         setosa "
      ]
     },
     "metadata": {},
     "output_type": "display_data"
    }
   ],
   "source": [
    "head(iris)"
   ]
  },
  {
   "cell_type": "code",
   "execution_count": 4,
   "id": "a405019b",
   "metadata": {},
   "outputs": [
    {
     "name": "stdout",
     "output_type": "stream",
     "text": [
      "Number of rows and coloumns: 150 5"
     ]
    }
   ],
   "source": [
    "cat(\"Number of rows and coloumns:\", nrow(iris), ncol(iris))"
   ]
  },
  {
   "cell_type": "code",
   "execution_count": 5,
   "id": "d096da5e",
   "metadata": {},
   "outputs": [
    {
     "data": {
      "text/plain": [
       "\n",
       "    setosa versicolor  virginica \n",
       "        50         50         50 "
      ]
     },
     "metadata": {},
     "output_type": "display_data"
    },
    {
     "data": {
      "text/html": [
       "<dl class=dl-horizontal>\n",
       "\t<dt>Sepal.Length</dt>\n",
       "\t\t<dd>0</dd>\n",
       "\t<dt>Sepal.Width</dt>\n",
       "\t\t<dd>0</dd>\n",
       "\t<dt>Petal.Length</dt>\n",
       "\t\t<dd>0</dd>\n",
       "\t<dt>Petal.Width</dt>\n",
       "\t\t<dd>0</dd>\n",
       "\t<dt>Species</dt>\n",
       "\t\t<dd>0</dd>\n",
       "</dl>\n"
      ],
      "text/latex": [
       "\\begin{description*}\n",
       "\\item[Sepal.Length] 0\n",
       "\\item[Sepal.Width] 0\n",
       "\\item[Petal.Length] 0\n",
       "\\item[Petal.Width] 0\n",
       "\\item[Species] 0\n",
       "\\end{description*}\n"
      ],
      "text/markdown": [
       "Sepal.Length\n",
       ":   0Sepal.Width\n",
       ":   0Petal.Length\n",
       ":   0Petal.Width\n",
       ":   0Species\n",
       ":   0\n",
       "\n"
      ],
      "text/plain": [
       "Sepal.Length  Sepal.Width Petal.Length  Petal.Width      Species \n",
       "           0            0            0            0            0 "
      ]
     },
     "metadata": {},
     "output_type": "display_data"
    }
   ],
   "source": [
    "base::table(iris$Species) \n",
    "apply(iris, 2, function(x) sum(is.na(x)))"
   ]
  },
  {
   "cell_type": "code",
   "execution_count": 6,
   "id": "628fed64",
   "metadata": {},
   "outputs": [],
   "source": [
    "SEED <- 2021\n",
    "set.seed(SEED)\n",
    "in_train <- createDataPartition(iris$Species, p=0.8, list=FALSE)\n",
    "ndf_train <- iris[in_train, ]\n",
    "ndf_test <- iris[-in_train, ]\n",
    "x_train <- subset(ndf_train, select=-Species)\n",
    "y_train <- ndf_train$Species\n",
    "x_test <- subset(ndf_test, select=-Species)\n",
    "y_test <- ndf_test$Species"
   ]
  },
  {
   "cell_type": "code",
   "execution_count": 7,
   "id": "54099579",
   "metadata": {},
   "outputs": [
    {
     "name": "stdout",
     "output_type": "stream",
     "text": [
      "Train size is: 120 4 120 \n",
      "Test size is: 30 4 30"
     ]
    }
   ],
   "source": [
    "cat(\"Train size is:\", dim(x_train),length(y_train),\"\\n\")\n",
    "cat(\"Test size is:\", dim(x_test),length(y_test))"
   ]
  },
  {
   "cell_type": "code",
   "execution_count": 8,
   "id": "eb909c7e",
   "metadata": {},
   "outputs": [
    {
     "data": {
      "text/plain": [
       "\n",
       "Call:\n",
       "svm.default(x = x_train, y = y_train)\n",
       "\n",
       "\n",
       "Parameters:\n",
       "   SVM-Type:  C-classification \n",
       " SVM-Kernel:  radial \n",
       "       cost:  1 \n",
       "\n",
       "Number of Support Vectors:  46\n",
       "\n",
       " ( 8 20 18 )\n",
       "\n",
       "\n",
       "Number of Classes:  3 \n",
       "\n",
       "Levels: \n",
       " setosa versicolor virginica\n",
       "\n",
       "\n"
      ]
     },
     "metadata": {},
     "output_type": "display_data"
    }
   ],
   "source": [
    "svm_model <- svm(x_train,y_train)\n",
    "summary(svm_model)"
   ]
  },
  {
   "cell_type": "code",
   "execution_count": 9,
   "id": "5c8c0a77",
   "metadata": {},
   "outputs": [
    {
     "data": {
      "text/plain": [
       "            y_test\n",
       "pred         setosa versicolor virginica\n",
       "  setosa         10          0         0\n",
       "  versicolor      0          8         0\n",
       "  virginica       0          2        10"
      ]
     },
     "metadata": {},
     "output_type": "display_data"
    }
   ],
   "source": [
    "pred <- predict(svm_model,x_test)\n",
    "base::table(pred,y_test)"
   ]
  },
  {
   "cell_type": "code",
   "execution_count": 10,
   "id": "1bed6900",
   "metadata": {},
   "outputs": [],
   "source": [
    "svm_tune <- tune(svm, train.x=x_train, train.y=y_train, \n",
    "              kernel=\"radial\", ranges=list(cost=10^(-1:2), gamma=c(.5,1,2)))"
   ]
  },
  {
   "cell_type": "code",
   "execution_count": 11,
   "id": "a99ebdc4",
   "metadata": {},
   "outputs": [
    {
     "data": {
      "text/plain": [
       "\n",
       "Parameter tuning of 'svm':\n",
       "\n",
       "- sampling method: 10-fold cross validation \n",
       "\n",
       "- best parameters:\n",
       " cost gamma\n",
       "    1   0.5\n",
       "\n",
       "- best performance: 0.04166667 \n",
       "\n",
       "- Detailed performance results:\n",
       "    cost gamma      error dispersion\n",
       "1    0.1   0.5 0.07500000 0.08286908\n",
       "2    1.0   0.5 0.04166667 0.05892557\n",
       "3   10.0   0.5 0.05000000 0.07027284\n",
       "4  100.0   0.5 0.05000000 0.07027284\n",
       "5    0.1   1.0 0.07500000 0.08286908\n",
       "6    1.0   1.0 0.05833333 0.07905694\n",
       "7   10.0   1.0 0.05833333 0.07905694\n",
       "8  100.0   1.0 0.05833333 0.07905694\n",
       "9    0.1   2.0 0.27500000 0.18023476\n",
       "10   1.0   2.0 0.05833333 0.07905694\n",
       "11  10.0   2.0 0.05833333 0.07905694\n",
       "12 100.0   2.0 0.05833333 0.07905694\n"
      ]
     },
     "metadata": {},
     "output_type": "display_data"
    }
   ],
   "source": [
    "summary(svm_tune)"
   ]
  },
  {
   "cell_type": "code",
   "execution_count": 12,
   "id": "685cd4dc",
   "metadata": {},
   "outputs": [
    {
     "data": {
      "text/plain": [
       "\n",
       "Call:\n",
       "svm.default(x = x_train, y = y_train, kernel = \"radial\", gamma = 0.5, \n",
       "    cost = 1)\n",
       "\n",
       "\n",
       "Parameters:\n",
       "   SVM-Type:  C-classification \n",
       " SVM-Kernel:  radial \n",
       "       cost:  1 \n",
       "\n",
       "Number of Support Vectors:  51\n",
       "\n",
       " ( 12 18 21 )\n",
       "\n",
       "\n",
       "Number of Classes:  3 \n",
       "\n",
       "Levels: \n",
       " setosa versicolor virginica\n",
       "\n",
       "\n"
      ]
     },
     "metadata": {},
     "output_type": "display_data"
    }
   ],
   "source": [
    "svm_after_tune <- svm(x_train, y_train, kernel=\"radial\", cost=1, gamma=0.5)\n",
    "summary(svm_after_tune)"
   ]
  },
  {
   "cell_type": "code",
   "execution_count": 13,
   "id": "e27ebb08",
   "metadata": {},
   "outputs": [],
   "source": [
    "pred <- predict(svm_after_tune,x_test)\n",
    "confm = base::table(pred,y_test)"
   ]
  },
  {
   "cell_type": "code",
   "execution_count": 14,
   "id": "e750a901",
   "metadata": {},
   "outputs": [
    {
     "name": "stdout",
     "output_type": "stream",
     "text": [
      "Test accuracy:  0.9333333"
     ]
    }
   ],
   "source": [
    "cat(\"Test accuracy: \", sum(diag(confm))/sum(confm))"
   ]
  }
 ],
 "metadata": {
  "kernelspec": {
   "display_name": "R",
   "language": "R",
   "name": "ir"
  },
  "language_info": {
   "codemirror_mode": "r",
   "file_extension": ".r",
   "mimetype": "text/x-r-source",
   "name": "R",
   "pygments_lexer": "r",
   "version": "3.6.1"
  }
 },
 "nbformat": 4,
 "nbformat_minor": 5
}
