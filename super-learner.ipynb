{
 "cells": [
  {
   "cell_type": "code",
   "execution_count": null,
   "id": "afdb64ba",
   "metadata": {},
   "outputs": [],
   "source": [
    "#install.packages(\"SuperLearner\")\n",
    "#install.packages(\"ranger\")\n",
    "#install.packages(\"arm\")\n",
    "#install.packages(\"kernlab\")\n",
    "#install.packages(\"ipred\")"
   ]
  },
  {
   "cell_type": "code",
   "execution_count": 2,
   "id": "f3f05f9c",
   "metadata": {},
   "outputs": [
    {
     "name": "stderr",
     "output_type": "stream",
     "text": [
      "Warning message:\n",
      "\"package 'SuperLearner' was built under R version 3.6.3\"Loading required package: nnls\n",
      "Super Learner\n",
      "Version: 2.0-26\n",
      "Package created on 2019-10-27\n",
      "\n",
      "Warning message:\n",
      "\"package 'dplyr' was built under R version 3.6.3\"\n",
      "Attaching package: 'dplyr'\n",
      "\n",
      "The following object is masked from 'package:MASS':\n",
      "\n",
      "    select\n",
      "\n",
      "The following objects are masked from 'package:stats':\n",
      "\n",
      "    filter, lag\n",
      "\n",
      "The following objects are masked from 'package:base':\n",
      "\n",
      "    intersect, setdiff, setequal, union\n",
      "\n"
     ]
    }
   ],
   "source": [
    "library(SuperLearner)\n",
    "library(MASS)\n",
    "library(dplyr)"
   ]
  },
  {
   "cell_type": "code",
   "execution_count": 3,
   "id": "5af3575c",
   "metadata": {},
   "outputs": [],
   "source": [
    "train <- Pima.tr\n",
    "test <- Pima.te"
   ]
  },
  {
   "cell_type": "code",
   "execution_count": 4,
   "id": "44b87c4b",
   "metadata": {},
   "outputs": [
    {
     "data": {
      "text/html": [
       "<table>\n",
       "<thead><tr><th scope=col>npreg</th><th scope=col>glu</th><th scope=col>bp</th><th scope=col>skin</th><th scope=col>bmi</th><th scope=col>ped</th><th scope=col>age</th><th scope=col>type</th></tr></thead>\n",
       "<tbody>\n",
       "\t<tr><td>5    </td><td> 86  </td><td>68   </td><td>28   </td><td>30.2 </td><td>0.364</td><td>24   </td><td>No   </td></tr>\n",
       "\t<tr><td>7    </td><td>195  </td><td>70   </td><td>33   </td><td>25.1 </td><td>0.163</td><td>55   </td><td>Yes  </td></tr>\n",
       "\t<tr><td>5    </td><td> 77  </td><td>82   </td><td>41   </td><td>35.8 </td><td>0.156</td><td>35   </td><td>No   </td></tr>\n",
       "\t<tr><td>0    </td><td>165  </td><td>76   </td><td>43   </td><td>47.9 </td><td>0.259</td><td>26   </td><td>No   </td></tr>\n",
       "\t<tr><td>0    </td><td>107  </td><td>60   </td><td>25   </td><td>26.4 </td><td>0.133</td><td>23   </td><td>No   </td></tr>\n",
       "\t<tr><td>5    </td><td> 97  </td><td>76   </td><td>27   </td><td>35.6 </td><td>0.378</td><td>52   </td><td>Yes  </td></tr>\n",
       "</tbody>\n",
       "</table>\n"
      ],
      "text/latex": [
       "\\begin{tabular}{r|llllllll}\n",
       " npreg & glu & bp & skin & bmi & ped & age & type\\\\\n",
       "\\hline\n",
       "\t 5     &  86   & 68    & 28    & 30.2  & 0.364 & 24    & No   \\\\\n",
       "\t 7     & 195   & 70    & 33    & 25.1  & 0.163 & 55    & Yes  \\\\\n",
       "\t 5     &  77   & 82    & 41    & 35.8  & 0.156 & 35    & No   \\\\\n",
       "\t 0     & 165   & 76    & 43    & 47.9  & 0.259 & 26    & No   \\\\\n",
       "\t 0     & 107   & 60    & 25    & 26.4  & 0.133 & 23    & No   \\\\\n",
       "\t 5     &  97   & 76    & 27    & 35.6  & 0.378 & 52    & Yes  \\\\\n",
       "\\end{tabular}\n"
      ],
      "text/markdown": [
       "\n",
       "| npreg | glu | bp | skin | bmi | ped | age | type |\n",
       "|---|---|---|---|---|---|---|---|\n",
       "| 5     |  86   | 68    | 28    | 30.2  | 0.364 | 24    | No    |\n",
       "| 7     | 195   | 70    | 33    | 25.1  | 0.163 | 55    | Yes   |\n",
       "| 5     |  77   | 82    | 41    | 35.8  | 0.156 | 35    | No    |\n",
       "| 0     | 165   | 76    | 43    | 47.9  | 0.259 | 26    | No    |\n",
       "| 0     | 107   | 60    | 25    | 26.4  | 0.133 | 23    | No    |\n",
       "| 5     |  97   | 76    | 27    | 35.6  | 0.378 | 52    | Yes   |\n",
       "\n"
      ],
      "text/plain": [
       "  npreg glu bp skin bmi  ped   age type\n",
       "1 5      86 68 28   30.2 0.364 24  No  \n",
       "2 7     195 70 33   25.1 0.163 55  Yes \n",
       "3 5      77 82 41   35.8 0.156 35  No  \n",
       "4 0     165 76 43   47.9 0.259 26  No  \n",
       "5 0     107 60 25   26.4 0.133 23  No  \n",
       "6 5      97 76 27   35.6 0.378 52  Yes "
      ]
     },
     "metadata": {},
     "output_type": "display_data"
    }
   ],
   "source": [
    "head(train)"
   ]
  },
  {
   "cell_type": "code",
   "execution_count": 5,
   "id": "7cf8639a",
   "metadata": {},
   "outputs": [],
   "source": [
    "labels <- as.numeric(train$type) - 1 \n",
    "labels_test <- as.numeric(test$type) - 1"
   ]
  },
  {
   "cell_type": "code",
   "execution_count": 6,
   "id": "5826477c",
   "metadata": {},
   "outputs": [
    {
     "data": {
      "text/html": [
       "200"
      ],
      "text/latex": [
       "200"
      ],
      "text/markdown": [
       "200"
      ],
      "text/plain": [
       "[1] 200"
      ]
     },
     "metadata": {},
     "output_type": "display_data"
    }
   ],
   "source": [
    "length(labels)"
   ]
  },
  {
   "cell_type": "code",
   "execution_count": 7,
   "id": "3ef74311",
   "metadata": {},
   "outputs": [
    {
     "data": {
      "text/html": [
       "<ol class=list-inline>\n",
       "\t<li>200</li>\n",
       "\t<li>8</li>\n",
       "</ol>\n"
      ],
      "text/latex": [
       "\\begin{enumerate*}\n",
       "\\item 200\n",
       "\\item 8\n",
       "\\end{enumerate*}\n"
      ],
      "text/markdown": [
       "1. 200\n",
       "2. 8\n",
       "\n",
       "\n"
      ],
      "text/plain": [
       "[1] 200   8"
      ]
     },
     "metadata": {},
     "output_type": "display_data"
    }
   ],
   "source": [
    "dim(train)"
   ]
  },
  {
   "cell_type": "code",
   "execution_count": 8,
   "id": "0a69cd3a",
   "metadata": {},
   "outputs": [],
   "source": [
    "train <- train %>% select(-type) %>% as.data.frame()\n",
    "test <- test %>% select(-type)%>% as.data.frame()"
   ]
  },
  {
   "cell_type": "code",
   "execution_count": 9,
   "id": "47a400d6",
   "metadata": {},
   "outputs": [
    {
     "name": "stderr",
     "output_type": "stream",
     "text": [
      "All prediction algorithm wrappers in SuperLearner:\n",
      "\n"
     ]
    },
    {
     "name": "stdout",
     "output_type": "stream",
     "text": [
      " [1] \"SL.bartMachine\"      \"SL.bayesglm\"         \"SL.biglasso\"        \n",
      " [4] \"SL.caret\"            \"SL.caret.rpart\"      \"SL.cforest\"         \n",
      " [7] \"SL.earth\"            \"SL.extraTrees\"       \"SL.gam\"             \n",
      "[10] \"SL.gbm\"              \"SL.glm\"              \"SL.glm.interaction\" \n",
      "[13] \"SL.glmnet\"           \"SL.ipredbagg\"        \"SL.kernelKnn\"       \n",
      "[16] \"SL.knn\"              \"SL.ksvm\"             \"SL.lda\"             \n",
      "[19] \"SL.leekasso\"         \"SL.lm\"               \"SL.loess\"           \n",
      "[22] \"SL.logreg\"           \"SL.mean\"             \"SL.nnet\"            \n",
      "[25] \"SL.nnls\"             \"SL.polymars\"         \"SL.qda\"             \n",
      "[28] \"SL.randomForest\"     \"SL.ranger\"           \"SL.ridge\"           \n",
      "[31] \"SL.rpart\"            \"SL.rpartPrune\"       \"SL.speedglm\"        \n",
      "[34] \"SL.speedlm\"          \"SL.step\"             \"SL.step.forward\"    \n",
      "[37] \"SL.step.interaction\" \"SL.stepAIC\"          \"SL.svm\"             \n",
      "[40] \"SL.template\"         \"SL.xgboost\"         \n"
     ]
    },
    {
     "name": "stderr",
     "output_type": "stream",
     "text": [
      "\n",
      "All screening algorithm wrappers in SuperLearner:\n",
      "\n"
     ]
    },
    {
     "name": "stdout",
     "output_type": "stream",
     "text": [
      "[1] \"All\"\n",
      "[1] \"screen.corP\"           \"screen.corRank\"        \"screen.glmnet\"        \n",
      "[4] \"screen.randomForest\"   \"screen.SIS\"            \"screen.template\"      \n",
      "[7] \"screen.ttest\"          \"write.screen.template\"\n"
     ]
    }
   ],
   "source": [
    "listWrappers()"
   ]
  },
  {
   "cell_type": "code",
   "execution_count": 10,
   "id": "1e6b3e6e",
   "metadata": {},
   "outputs": [
    {
     "name": "stderr",
     "output_type": "stream",
     "text": [
      "Loading required namespace: arm\n",
      "Loading required namespace: ipred\n",
      "Loading required namespace: ranger\n",
      "Loading required namespace: kernlab\n"
     ]
    },
    {
     "data": {
      "text/plain": [
       "\n",
       "Call:  \n",
       "SuperLearner(Y = labels, X = train, family = binomial(), SL.library = list(\"SL.ranger\",  \n",
       "    \"SL.bayesglm\", \"SL.ksvm\", \"SL.ipredbagg\")) \n",
       "\n",
       "\n",
       "                      Risk      Coef\n",
       "SL.ranger_All    0.1752675 0.0000000\n",
       "SL.bayesglm_All  0.1616847 0.6463858\n",
       "SL.ksvm_All      0.1762921 0.0000000\n",
       "SL.ipredbagg_All 0.1656591 0.3536142"
      ]
     },
     "metadata": {},
     "output_type": "display_data"
    }
   ],
   "source": [
    "set.seed(42)\n",
    "model <- SuperLearner(labels,\n",
    "                     train,\n",
    "                     family = binomial(),\n",
    "                     SL.library = list(\"SL.ranger\", \"SL.bayesglm\", \"SL.ksvm\", \"SL.ipredbagg\"))\n",
    "model"
   ]
  },
  {
   "cell_type": "code",
   "execution_count": 11,
   "id": "585c7ccb",
   "metadata": {},
   "outputs": [
    {
     "data": {
      "text/plain": [
       "\n",
       "Call:  \n",
       "CV.SuperLearner(Y = labels, X = train, V = 5, SL.library = list(\"SL.ranger\",  \n",
       "    \"SL.bayesglm\", \"SL.ksvm\", \"SL.ipredbagg\")) \n",
       "\n",
       "Risk is based on: Mean Squared Error\n",
       "\n",
       "All risk estimates are based on V =  5 \n",
       "\n",
       "        Algorithm     Ave       se     Min     Max\n",
       "    Super Learner 0.15807 0.013809 0.10887 0.22300\n",
       "      Discrete SL 0.15932 0.013537 0.10541 0.22403\n",
       "    SL.ranger_All 0.16685 0.014592 0.13581 0.22227\n",
       "  SL.bayesglm_All 0.15932 0.013537 0.10541 0.22403\n",
       "      SL.ksvm_All 0.18353 0.019427 0.13064 0.25517\n",
       " SL.ipredbagg_All 0.16147 0.015336 0.12413 0.22658"
      ]
     },
     "metadata": {},
     "output_type": "display_data"
    }
   ],
   "source": [
    "set.seed(42)\n",
    "\n",
    "cv.model <- CV.SuperLearner(labels,\n",
    "                         train,\n",
    "                         V = 5,\n",
    "                         SL.library = list(\"SL.ranger\", \"SL.bayesglm\", \"SL.ksvm\", \"SL.ipredbagg\"))\n",
    "summary(cv.model)"
   ]
  },
  {
   "cell_type": "code",
   "execution_count": 12,
   "id": "eb8c3acd",
   "metadata": {},
   "outputs": [
    {
     "data": {
      "image/png": "[encoded data removed]",
      "text/plain": [
       "plot without title"
      ]
     },
     "metadata": {},
     "output_type": "display_data"
    }
   ],
   "source": [
    "plot(cv.model)"
   ]
  },
  {
   "cell_type": "code",
   "execution_count": 13,
   "id": "8c9dce89",
   "metadata": {},
   "outputs": [],
   "source": [
    "pred <- predict.SuperLearner(model , newdata = test)"
   ]
  },
  {
   "cell_type": "code",
   "execution_count": 14,
   "id": "3c9a5607",
   "metadata": {},
   "outputs": [
    {
     "data": {
      "text/html": [
       "<table>\n",
       "<tbody>\n",
       "\t<tr><td>0.78131164</td></tr>\n",
       "\t<tr><td>0.09426887</td></tr>\n",
       "\t<tr><td>0.04256482</td></tr>\n",
       "\t<tr><td>0.05714902</td></tr>\n",
       "\t<tr><td>0.70774537</td></tr>\n",
       "\t<tr><td>0.64838482</td></tr>\n",
       "</tbody>\n",
       "</table>\n"
      ],
      "text/latex": [
       "\\begin{tabular}{l}\n",
       "\t 0.78131164\\\\\n",
       "\t 0.09426887\\\\\n",
       "\t 0.04256482\\\\\n",
       "\t 0.05714902\\\\\n",
       "\t 0.70774537\\\\\n",
       "\t 0.64838482\\\\\n",
       "\\end{tabular}\n"
      ],
      "text/markdown": [
       "\n",
       "| 0.78131164 |\n",
       "| 0.09426887 |\n",
       "| 0.04256482 |\n",
       "| 0.05714902 |\n",
       "| 0.70774537 |\n",
       "| 0.64838482 |\n",
       "\n"
      ],
      "text/plain": [
       "     [,1]      \n",
       "[1,] 0.78131164\n",
       "[2,] 0.09426887\n",
       "[3,] 0.04256482\n",
       "[4,] 0.05714902\n",
       "[5,] 0.70774537\n",
       "[6,] 0.64838482"
      ]
     },
     "metadata": {},
     "output_type": "display_data"
    }
   ],
   "source": [
    "head(pred$pred)"
   ]
  },
  {
   "cell_type": "code",
   "execution_count": 15,
   "id": "3ccf21aa",
   "metadata": {},
   "outputs": [
    {
     "data": {
      "text/html": [
       "<table>\n",
       "<thead><tr><th scope=col>SL.ranger_All</th><th scope=col>SL.bayesglm_All</th><th scope=col>SL.ksvm_All</th><th scope=col>SL.ipredbagg_All</th></tr></thead>\n",
       "<tbody>\n",
       "\t<tr><td>0.804     </td><td>0.75698375</td><td>0.8833113 </td><td>0.82578156</td></tr>\n",
       "\t<tr><td>0.113     </td><td>0.04487688</td><td>0.1230686 </td><td>0.18455450</td></tr>\n",
       "\t<tr><td>0.026     </td><td>0.02845282</td><td>0.1258690 </td><td>0.06836071</td></tr>\n",
       "\t<tr><td>0.106     </td><td>0.04488741</td><td>0.1617065 </td><td>0.07956253</td></tr>\n",
       "\t<tr><td>0.626     </td><td>0.79146612</td><td>0.7584997 </td><td>0.55470882</td></tr>\n",
       "\t<tr><td>0.526     </td><td>0.72260101</td><td>0.7628080 </td><td>0.51272203</td></tr>\n",
       "</tbody>\n",
       "</table>\n"
      ],
      "text/latex": [
       "\\begin{tabular}{llll}\n",
       " SL.ranger\\_All & SL.bayesglm\\_All & SL.ksvm\\_All & SL.ipredbagg\\_All\\\\\n",
       "\\hline\n",
       "\t 0.804      & 0.75698375 & 0.8833113  & 0.82578156\\\\\n",
       "\t 0.113      & 0.04487688 & 0.1230686  & 0.18455450\\\\\n",
       "\t 0.026      & 0.02845282 & 0.1258690  & 0.06836071\\\\\n",
       "\t 0.106      & 0.04488741 & 0.1617065  & 0.07956253\\\\\n",
       "\t 0.626      & 0.79146612 & 0.7584997  & 0.55470882\\\\\n",
       "\t 0.526      & 0.72260101 & 0.7628080  & 0.51272203\\\\\n",
       "\\end{tabular}\n"
      ],
      "text/markdown": [
       "\n",
       "| SL.ranger_All | SL.bayesglm_All | SL.ksvm_All | SL.ipredbagg_All |\n",
       "|---|---|---|---|\n",
       "| 0.804      | 0.75698375 | 0.8833113  | 0.82578156 |\n",
       "| 0.113      | 0.04487688 | 0.1230686  | 0.18455450 |\n",
       "| 0.026      | 0.02845282 | 0.1258690  | 0.06836071 |\n",
       "| 0.106      | 0.04488741 | 0.1617065  | 0.07956253 |\n",
       "| 0.626      | 0.79146612 | 0.7584997  | 0.55470882 |\n",
       "| 0.526      | 0.72260101 | 0.7628080  | 0.51272203 |\n",
       "\n"
      ],
      "text/plain": [
       "     SL.ranger_All SL.bayesglm_All SL.ksvm_All SL.ipredbagg_All\n",
       "[1,] 0.804         0.75698375      0.8833113   0.82578156      \n",
       "[2,] 0.113         0.04487688      0.1230686   0.18455450      \n",
       "[3,] 0.026         0.02845282      0.1258690   0.06836071      \n",
       "[4,] 0.106         0.04488741      0.1617065   0.07956253      \n",
       "[5,] 0.626         0.79146612      0.7584997   0.55470882      \n",
       "[6,] 0.526         0.72260101      0.7628080   0.51272203      "
      ]
     },
     "metadata": {},
     "output_type": "display_data"
    }
   ],
   "source": [
    "head(pred$library)"
   ]
  },
  {
   "cell_type": "code",
   "execution_count": 16,
   "id": "f58ee1d4",
   "metadata": {},
   "outputs": [],
   "source": [
    "conv.preds <- ifelse(pred$pred>=0.5,1,0)"
   ]
  },
  {
   "cell_type": "code",
   "execution_count": 17,
   "id": "822d33f0",
   "metadata": {},
   "outputs": [],
   "source": [
    "conf_mat <- base::table(conv.preds,labels_test)"
   ]
  },
  {
   "cell_type": "code",
   "execution_count": 18,
   "id": "55fb2579",
   "metadata": {},
   "outputs": [
    {
     "data": {
      "text/plain": [
       "          labels_test\n",
       "conv.preds   0   1\n",
       "         0 199  44\n",
       "         1  24  65"
      ]
     },
     "metadata": {},
     "output_type": "display_data"
    }
   ],
   "source": [
    "conf_mat"
   ]
  },
  {
   "cell_type": "code",
   "execution_count": 19,
   "id": "a74e2254",
   "metadata": {},
   "outputs": [
    {
     "name": "stdout",
     "output_type": "stream",
     "text": [
      "Model accuracy is : 0.7951807"
     ]
    }
   ],
   "source": [
    "cat(\"Model accuracy is :\", sum(diag(conf_mat)/sum(conf_mat)) )"
   ]
  },
  {
   "cell_type": "code",
   "execution_count": 20,
   "id": "79a982bf",
   "metadata": {},
   "outputs": [],
   "source": [
    "#With the same data set, I got 72% accuracy with only KNN."
   ]
  },
  {
   "cell_type": "code",
   "execution_count": null,
   "id": "55e73b1d",
   "metadata": {},
   "outputs": [],
   "source": []
  }
 ],
 "metadata": {
  "kernelspec": {
   "display_name": "R",
   "language": "R",
   "name": "ir"
  },
  "language_info": {
   "codemirror_mode": "r",
   "file_extension": ".r",
   "mimetype": "text/x-r-source",
   "name": "R",
   "pygments_lexer": "r",
   "version": "3.6.1"
  }
 },
 "nbformat": 4,
 "nbformat_minor": 5
}
