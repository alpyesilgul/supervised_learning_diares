{
 "cells": [
  {
   "cell_type": "code",
   "execution_count": 1,
   "id": "0427f767",
   "metadata": {},
   "outputs": [
    {
     "name": "stderr",
     "output_type": "stream",
     "text": [
      "Warning message:\n",
      "\"package 'randomForest' was built under R version 3.6.3\"randomForest 4.6-14\n",
      "Type rfNews() to see new features/changes/bug fixes.\n"
     ]
    }
   ],
   "source": [
    "#install.packages(\"randomForest\")\n",
    "library(randomForest)"
   ]
  },
  {
   "cell_type": "code",
   "execution_count": 2,
   "id": "7551b71c",
   "metadata": {},
   "outputs": [],
   "source": [
    "titanic <- read.csv(\"src/titanic/train.csv\")"
   ]
  },
  {
   "cell_type": "code",
   "execution_count": 3,
   "id": "97bda05c",
   "metadata": {},
   "outputs": [
    {
     "data": {
      "text/html": [
       "<table>\n",
       "<thead><tr><th scope=col>PassengerId</th><th scope=col>Survived</th><th scope=col>Pclass</th><th scope=col>Name</th><th scope=col>Sex</th><th scope=col>Age</th><th scope=col>SibSp</th><th scope=col>Parch</th><th scope=col>Ticket</th><th scope=col>Fare</th><th scope=col>Cabin</th><th scope=col>Embarked</th></tr></thead>\n",
       "<tbody>\n",
       "\t<tr><td>1                                                  </td><td>0                                                  </td><td>3                                                  </td><td>Braund, Mr. Owen Harris                            </td><td>male                                               </td><td>22                                                 </td><td>1                                                  </td><td>0                                                  </td><td>A/5 21171                                          </td><td> 7.2500                                            </td><td>                                                   </td><td>S                                                  </td></tr>\n",
       "\t<tr><td>2                                                  </td><td>1                                                  </td><td>1                                                  </td><td>Cumings, Mrs. John Bradley (Florence Briggs Thayer)</td><td>female                                             </td><td>38                                                 </td><td>1                                                  </td><td>0                                                  </td><td>PC 17599                                           </td><td>71.2833                                            </td><td>C85                                                </td><td>C                                                  </td></tr>\n",
       "\t<tr><td>3                                                  </td><td>1                                                  </td><td>3                                                  </td><td>Heikkinen, Miss. Laina                             </td><td>female                                             </td><td>26                                                 </td><td>0                                                  </td><td>0                                                  </td><td>STON/O2. 3101282                                   </td><td> 7.9250                                            </td><td>                                                   </td><td>S                                                  </td></tr>\n",
       "\t<tr><td>4                                                  </td><td>1                                                  </td><td>1                                                  </td><td>Futrelle, Mrs. Jacques Heath (Lily May Peel)       </td><td>female                                             </td><td>35                                                 </td><td>1                                                  </td><td>0                                                  </td><td>113803                                             </td><td>53.1000                                            </td><td>C123                                               </td><td>S                                                  </td></tr>\n",
       "\t<tr><td>5                                                  </td><td>0                                                  </td><td>3                                                  </td><td>Allen, Mr. William Henry                           </td><td>male                                               </td><td>35                                                 </td><td>0                                                  </td><td>0                                                  </td><td>373450                                             </td><td> 8.0500                                            </td><td>                                                   </td><td>S                                                  </td></tr>\n",
       "\t<tr><td>6                                                  </td><td>0                                                  </td><td>3                                                  </td><td>Moran, Mr. James                                   </td><td>male                                               </td><td>NA                                                 </td><td>0                                                  </td><td>0                                                  </td><td>330877                                             </td><td> 8.4583                                            </td><td>                                                   </td><td>Q                                                  </td></tr>\n",
       "</tbody>\n",
       "</table>\n"
      ],
      "text/latex": [
       "\\begin{tabular}{r|llllllllllll}\n",
       " PassengerId & Survived & Pclass & Name & Sex & Age & SibSp & Parch & Ticket & Fare & Cabin & Embarked\\\\\n",
       "\\hline\n",
       "\t 1                                                   & 0                                                   & 3                                                   & Braund, Mr. Owen Harris                             & male                                                & 22                                                  & 1                                                   & 0                                                   & A/5 21171                                           &  7.2500                                             &                                                     & S                                                  \\\\\n",
       "\t 2                                                   & 1                                                   & 1                                                   & Cumings, Mrs. John Bradley (Florence Briggs Thayer) & female                                              & 38                                                  & 1                                                   & 0                                                   & PC 17599                                            & 71.2833                                             & C85                                                 & C                                                  \\\\\n",
       "\t 3                                                   & 1                                                   & 3                                                   & Heikkinen, Miss. Laina                              & female                                              & 26                                                  & 0                                                   & 0                                                   & STON/O2. 3101282                                    &  7.9250                                             &                                                     & S                                                  \\\\\n",
       "\t 4                                                   & 1                                                   & 1                                                   & Futrelle, Mrs. Jacques Heath (Lily May Peel)        & female                                              & 35                                                  & 1                                                   & 0                                                   & 113803                                              & 53.1000                                             & C123                                                & S                                                  \\\\\n",
       "\t 5                                                   & 0                                                   & 3                                                   & Allen, Mr. William Henry                            & male                                                & 35                                                  & 0                                                   & 0                                                   & 373450                                              &  8.0500                                             &                                                     & S                                                  \\\\\n",
       "\t 6                                                   & 0                                                   & 3                                                   & Moran, Mr. James                                    & male                                                & NA                                                  & 0                                                   & 0                                                   & 330877                                              &  8.4583                                             &                                                     & Q                                                  \\\\\n",
       "\\end{tabular}\n"
      ],
      "text/markdown": [
       "\n",
       "| PassengerId | Survived | Pclass | Name | Sex | Age | SibSp | Parch | Ticket | Fare | Cabin | Embarked |\n",
       "|---|---|---|---|---|---|---|---|---|---|---|---|\n",
       "| 1                                                   | 0                                                   | 3                                                   | Braund, Mr. Owen Harris                             | male                                                | 22                                                  | 1                                                   | 0                                                   | A/5 21171                                           |  7.2500                                             |                                                     | S                                                   |\n",
       "| 2                                                   | 1                                                   | 1                                                   | Cumings, Mrs. John Bradley (Florence Briggs Thayer) | female                                              | 38                                                  | 1                                                   | 0                                                   | PC 17599                                            | 71.2833                                             | C85                                                 | C                                                   |\n",
       "| 3                                                   | 1                                                   | 3                                                   | Heikkinen, Miss. Laina                              | female                                              | 26                                                  | 0                                                   | 0                                                   | STON/O2. 3101282                                    |  7.9250                                             |                                                     | S                                                   |\n",
       "| 4                                                   | 1                                                   | 1                                                   | Futrelle, Mrs. Jacques Heath (Lily May Peel)        | female                                              | 35                                                  | 1                                                   | 0                                                   | 113803                                              | 53.1000                                             | C123                                                | S                                                   |\n",
       "| 5                                                   | 0                                                   | 3                                                   | Allen, Mr. William Henry                            | male                                                | 35                                                  | 0                                                   | 0                                                   | 373450                                              |  8.0500                                             |                                                     | S                                                   |\n",
       "| 6                                                   | 0                                                   | 3                                                   | Moran, Mr. James                                    | male                                                | NA                                                  | 0                                                   | 0                                                   | 330877                                              |  8.4583                                             |                                                     | Q                                                   |\n",
       "\n"
      ],
      "text/plain": [
       "  PassengerId Survived Pclass\n",
       "1 1           0        3     \n",
       "2 2           1        1     \n",
       "3 3           1        3     \n",
       "4 4           1        1     \n",
       "5 5           0        3     \n",
       "6 6           0        3     \n",
       "  Name                                                Sex    Age SibSp Parch\n",
       "1 Braund, Mr. Owen Harris                             male   22  1     0    \n",
       "2 Cumings, Mrs. John Bradley (Florence Briggs Thayer) female 38  1     0    \n",
       "3 Heikkinen, Miss. Laina                              female 26  0     0    \n",
       "4 Futrelle, Mrs. Jacques Heath (Lily May Peel)        female 35  1     0    \n",
       "5 Allen, Mr. William Henry                            male   35  0     0    \n",
       "6 Moran, Mr. James                                    male   NA  0     0    \n",
       "  Ticket           Fare    Cabin Embarked\n",
       "1 A/5 21171         7.2500       S       \n",
       "2 PC 17599         71.2833 C85   C       \n",
       "3 STON/O2. 3101282  7.9250       S       \n",
       "4 113803           53.1000 C123  S       \n",
       "5 373450            8.0500       S       \n",
       "6 330877            8.4583       Q       "
      ]
     },
     "metadata": {},
     "output_type": "display_data"
    }
   ],
   "source": [
    "head(titanic)"
   ]
  },
  {
   "cell_type": "code",
   "execution_count": 4,
   "id": "43e5083c",
   "metadata": {},
   "outputs": [],
   "source": [
    "titanic$PassengerId <- NULL\n",
    "titanic$Name <- NULL\n",
    "titanic$Cabin <- NULL\n",
    "titanic$Ticket <- NULL"
   ]
  },
  {
   "cell_type": "code",
   "execution_count": 5,
   "id": "9f191ab6",
   "metadata": {},
   "outputs": [
    {
     "data": {
      "text/html": [
       "<table>\n",
       "<thead><tr><th scope=col>Survived</th><th scope=col>Pclass</th><th scope=col>Sex</th><th scope=col>Age</th><th scope=col>SibSp</th><th scope=col>Parch</th><th scope=col>Fare</th><th scope=col>Embarked</th></tr></thead>\n",
       "<tbody>\n",
       "\t<tr><td>0      </td><td>3      </td><td>male   </td><td>22     </td><td>1      </td><td>0      </td><td> 7.2500</td><td>S      </td></tr>\n",
       "\t<tr><td>1      </td><td>1      </td><td>female </td><td>38     </td><td>1      </td><td>0      </td><td>71.2833</td><td>C      </td></tr>\n",
       "\t<tr><td>1      </td><td>3      </td><td>female </td><td>26     </td><td>0      </td><td>0      </td><td> 7.9250</td><td>S      </td></tr>\n",
       "\t<tr><td>1      </td><td>1      </td><td>female </td><td>35     </td><td>1      </td><td>0      </td><td>53.1000</td><td>S      </td></tr>\n",
       "\t<tr><td>0      </td><td>3      </td><td>male   </td><td>35     </td><td>0      </td><td>0      </td><td> 8.0500</td><td>S      </td></tr>\n",
       "\t<tr><td>0      </td><td>3      </td><td>male   </td><td>NA     </td><td>0      </td><td>0      </td><td> 8.4583</td><td>Q      </td></tr>\n",
       "</tbody>\n",
       "</table>\n"
      ],
      "text/latex": [
       "\\begin{tabular}{r|llllllll}\n",
       " Survived & Pclass & Sex & Age & SibSp & Parch & Fare & Embarked\\\\\n",
       "\\hline\n",
       "\t 0       & 3       & male    & 22      & 1       & 0       &  7.2500 & S      \\\\\n",
       "\t 1       & 1       & female  & 38      & 1       & 0       & 71.2833 & C      \\\\\n",
       "\t 1       & 3       & female  & 26      & 0       & 0       &  7.9250 & S      \\\\\n",
       "\t 1       & 1       & female  & 35      & 1       & 0       & 53.1000 & S      \\\\\n",
       "\t 0       & 3       & male    & 35      & 0       & 0       &  8.0500 & S      \\\\\n",
       "\t 0       & 3       & male    & NA      & 0       & 0       &  8.4583 & Q      \\\\\n",
       "\\end{tabular}\n"
      ],
      "text/markdown": [
       "\n",
       "| Survived | Pclass | Sex | Age | SibSp | Parch | Fare | Embarked |\n",
       "|---|---|---|---|---|---|---|---|\n",
       "| 0       | 3       | male    | 22      | 1       | 0       |  7.2500 | S       |\n",
       "| 1       | 1       | female  | 38      | 1       | 0       | 71.2833 | C       |\n",
       "| 1       | 3       | female  | 26      | 0       | 0       |  7.9250 | S       |\n",
       "| 1       | 1       | female  | 35      | 1       | 0       | 53.1000 | S       |\n",
       "| 0       | 3       | male    | 35      | 0       | 0       |  8.0500 | S       |\n",
       "| 0       | 3       | male    | NA      | 0       | 0       |  8.4583 | Q       |\n",
       "\n"
      ],
      "text/plain": [
       "  Survived Pclass Sex    Age SibSp Parch Fare    Embarked\n",
       "1 0        3      male   22  1     0      7.2500 S       \n",
       "2 1        1      female 38  1     0     71.2833 C       \n",
       "3 1        3      female 26  0     0      7.9250 S       \n",
       "4 1        1      female 35  1     0     53.1000 S       \n",
       "5 0        3      male   35  0     0      8.0500 S       \n",
       "6 0        3      male   NA  0     0      8.4583 Q       "
      ]
     },
     "metadata": {},
     "output_type": "display_data"
    }
   ],
   "source": [
    "head(titanic)"
   ]
  },
  {
   "cell_type": "code",
   "execution_count": 6,
   "id": "a6ee6be2",
   "metadata": {},
   "outputs": [],
   "source": [
    "extractFeatures <- function(data) {\n",
    "  features <- c(\"Pclass\",\n",
    "                \"Age\",\n",
    "                \"Sex\",\n",
    "                \"Parch\",\n",
    "                \"SibSp\",\n",
    "                \"Fare\",\n",
    "                \"Embarked\")\n",
    "  fea <- data[,features]\n",
    "  fea$Age[is.na(fea$Age)] <- mean(fea$Age, na.rm=TRUE)\n",
    "  fea$Fare[is.na(fea$Fare)] <- median(fea$Fare, na.rm=TRUE)\n",
    "  fea$Embarked[fea$Embarked==\"\"] = \"S\"\n",
    "  fea$Sex      <- as.factor(fea$Sex)\n",
    "  fea$Embarked <- as.factor(fea$Embarked)\n",
    "    return(fea)\n",
    "}"
   ]
  },
  {
   "cell_type": "code",
   "execution_count": 7,
   "id": "dd6dae61",
   "metadata": {},
   "outputs": [
    {
     "data": {
      "text/plain": [
       "     Pclass           Age            Sex          Parch            SibSp      \n",
       " Min.   :1.000   Min.   : 0.42   female:314   Min.   :0.0000   Min.   :0.000  \n",
       " 1st Qu.:2.000   1st Qu.:22.00   male  :577   1st Qu.:0.0000   1st Qu.:0.000  \n",
       " Median :3.000   Median :29.70                Median :0.0000   Median :0.000  \n",
       " Mean   :2.309   Mean   :29.70                Mean   :0.3816   Mean   :0.523  \n",
       " 3rd Qu.:3.000   3rd Qu.:35.00                3rd Qu.:0.0000   3rd Qu.:1.000  \n",
       " Max.   :3.000   Max.   :80.00                Max.   :6.0000   Max.   :8.000  \n",
       "      Fare        Embarked\n",
       " Min.   :  0.00    :  0   \n",
       " 1st Qu.:  7.91   C:168   \n",
       " Median : 14.45   Q: 77   \n",
       " Mean   : 32.20   S:646   \n",
       " 3rd Qu.: 31.00           \n",
       " Max.   :512.33           "
      ]
     },
     "metadata": {},
     "output_type": "display_data"
    }
   ],
   "source": [
    "summary(extractFeatures(titanic))"
   ]
  },
  {
   "cell_type": "code",
   "execution_count": 8,
   "id": "5e23a0d6",
   "metadata": {},
   "outputs": [
    {
     "data": {
      "text/plain": [
       "\n",
       "Call:\n",
       " randomForest(x = extractFeatures(titanic), y = as.factor(titanic$Survived),      importance = TRUE) \n",
       "               Type of random forest: classification\n",
       "                     Number of trees: 500\n",
       "No. of variables tried at each split: 2\n",
       "\n",
       "        OOB estimate of  error rate: 16.61%\n",
       "Confusion matrix:\n",
       "    0   1 class.error\n",
       "0 502  47   0.0856102\n",
       "1 101 241   0.2953216"
      ]
     },
     "metadata": {},
     "output_type": "display_data"
    }
   ],
   "source": [
    "rf <- randomForest(extractFeatures(titanic), as.factor(titanic$Survived), \n",
    "                   importance=TRUE )\n",
    "rf"
   ]
  },
  {
   "cell_type": "code",
   "execution_count": 9,
   "id": "0790ec2b",
   "metadata": {},
   "outputs": [
    {
     "data": {
      "text/html": [
       "<table>\n",
       "<thead><tr><th></th><th scope=col>0</th><th scope=col>1</th><th scope=col>class.error</th></tr></thead>\n",
       "<tbody>\n",
       "\t<tr><th scope=row>0</th><td>502      </td><td> 47      </td><td>0.0856102</td></tr>\n",
       "\t<tr><th scope=row>1</th><td>101      </td><td>241      </td><td>0.2953216</td></tr>\n",
       "</tbody>\n",
       "</table>\n"
      ],
      "text/latex": [
       "\\begin{tabular}{r|lll}\n",
       "  & 0 & 1 & class.error\\\\\n",
       "\\hline\n",
       "\t0 & 502       &  47       & 0.0856102\\\\\n",
       "\t1 & 101       & 241       & 0.2953216\\\\\n",
       "\\end{tabular}\n"
      ],
      "text/markdown": [
       "\n",
       "| <!--/--> | 0 | 1 | class.error |\n",
       "|---|---|---|---|\n",
       "| 0 | 502       |  47       | 0.0856102 |\n",
       "| 1 | 101       | 241       | 0.2953216 |\n",
       "\n"
      ],
      "text/plain": [
       "  0   1   class.error\n",
       "0 502  47 0.0856102  \n",
       "1 101 241 0.2953216  "
      ]
     },
     "metadata": {},
     "output_type": "display_data"
    }
   ],
   "source": [
    "conf_mat <- rf$confusion\n",
    "conf_mat"
   ]
  },
  {
   "cell_type": "code",
   "execution_count": 10,
   "id": "f16135b1",
   "metadata": {},
   "outputs": [
    {
     "name": "stdout",
     "output_type": "stream",
     "text": [
      "Model accuracy:  0.8335381"
     ]
    }
   ],
   "source": [
    "cat(\"Model accuracy: \", sum(diag(conf_mat))/sum(conf_mat))"
   ]
  },
  {
   "cell_type": "code",
   "execution_count": 11,
   "id": "e609496e",
   "metadata": {},
   "outputs": [
    {
     "name": "stdout",
     "output_type": "stream",
     "text": [
      "mtry = 2  OOB error = 16.39% \n",
      "Searching left ...\n",
      "mtry = 1 \tOOB error = 17.73% \n",
      "-0.08219178 1e-05 \n",
      "Searching right ...\n",
      "mtry = 4 \tOOB error = 16.95% \n",
      "-0.03424658 1e-05 \n"
     ]
    },
    {
     "data": {
      "image/png": "[encoded data removed]",
      "text/plain": [
       "plot without title"
      ]
     },
     "metadata": {},
     "output_type": "display_data"
    }
   ],
   "source": [
    "tune_rf <- tuneRF(extractFeatures(titanic), as.factor(titanic$Survived), doBest=TRUE, improve = 1e-5, ntreeTry = 3000,\n",
    "                  stepFactor = 2)"
   ]
  },
  {
   "cell_type": "code",
   "execution_count": 12,
   "id": "cf01b29a",
   "metadata": {},
   "outputs": [
    {
     "data": {
      "text/html": [
       "<table>\n",
       "<thead><tr><th></th><th scope=col>0</th><th scope=col>1</th><th scope=col>class.error</th></tr></thead>\n",
       "<tbody>\n",
       "\t<tr><th scope=row>0</th><td>509       </td><td> 40       </td><td>0.07285974</td></tr>\n",
       "\t<tr><th scope=row>1</th><td>105       </td><td>237       </td><td>0.30701754</td></tr>\n",
       "</tbody>\n",
       "</table>\n"
      ],
      "text/latex": [
       "\\begin{tabular}{r|lll}\n",
       "  & 0 & 1 & class.error\\\\\n",
       "\\hline\n",
       "\t0 & 509        &  40        & 0.07285974\\\\\n",
       "\t1 & 105        & 237        & 0.30701754\\\\\n",
       "\\end{tabular}\n"
      ],
      "text/markdown": [
       "\n",
       "| <!--/--> | 0 | 1 | class.error |\n",
       "|---|---|---|---|\n",
       "| 0 | 509        |  40        | 0.07285974 |\n",
       "| 1 | 105        | 237        | 0.30701754 |\n",
       "\n"
      ],
      "text/plain": [
       "  0   1   class.error\n",
       "0 509  40 0.07285974 \n",
       "1 105 237 0.30701754 "
      ]
     },
     "metadata": {},
     "output_type": "display_data"
    }
   ],
   "source": [
    "conf_mat_tune <- tune_rf$confusion\n",
    "conf_mat_tune"
   ]
  },
  {
   "cell_type": "code",
   "execution_count": 13,
   "id": "40f02448",
   "metadata": {},
   "outputs": [
    {
     "name": "stdout",
     "output_type": "stream",
     "text": [
      "Tune Model accuracy:  0.8369047"
     ]
    }
   ],
   "source": [
    "cat(\"Tune Model accuracy: \", sum(diag(conf_mat_tune))/sum(conf_mat_tune))"
   ]
  },
  {
   "cell_type": "code",
   "execution_count": 14,
   "id": "108e4259",
   "metadata": {},
   "outputs": [],
   "source": [
    "test <- read.csv(\"src/titanic/test.csv\")"
   ]
  },
  {
   "cell_type": "code",
   "execution_count": 15,
   "id": "5853d1cb",
   "metadata": {},
   "outputs": [
    {
     "data": {
      "text/html": [
       "<table>\n",
       "<thead><tr><th scope=col>PassengerId</th><th scope=col>Pclass</th><th scope=col>Name</th><th scope=col>Sex</th><th scope=col>Age</th><th scope=col>SibSp</th><th scope=col>Parch</th><th scope=col>Ticket</th><th scope=col>Fare</th><th scope=col>Cabin</th><th scope=col>Embarked</th></tr></thead>\n",
       "<tbody>\n",
       "\t<tr><td>892                                         </td><td>3                                           </td><td>Kelly, Mr. James                            </td><td>male                                        </td><td>34.5                                        </td><td>0                                           </td><td>0                                           </td><td>330911                                      </td><td> 7.8292                                     </td><td>                                            </td><td>Q                                           </td></tr>\n",
       "\t<tr><td>893                                         </td><td>3                                           </td><td>Wilkes, Mrs. James (Ellen Needs)            </td><td>female                                      </td><td>47.0                                        </td><td>1                                           </td><td>0                                           </td><td>363272                                      </td><td> 7.0000                                     </td><td>                                            </td><td>S                                           </td></tr>\n",
       "\t<tr><td>894                                         </td><td>2                                           </td><td>Myles, Mr. Thomas Francis                   </td><td>male                                        </td><td>62.0                                        </td><td>0                                           </td><td>0                                           </td><td>240276                                      </td><td> 9.6875                                     </td><td>                                            </td><td>Q                                           </td></tr>\n",
       "\t<tr><td>895                                         </td><td>3                                           </td><td>Wirz, Mr. Albert                            </td><td>male                                        </td><td>27.0                                        </td><td>0                                           </td><td>0                                           </td><td>315154                                      </td><td> 8.6625                                     </td><td>                                            </td><td>S                                           </td></tr>\n",
       "\t<tr><td>896                                         </td><td>3                                           </td><td>Hirvonen, Mrs. Alexander (Helga E Lindqvist)</td><td>female                                      </td><td>22.0                                        </td><td>1                                           </td><td>1                                           </td><td>3101298                                     </td><td>12.2875                                     </td><td>                                            </td><td>S                                           </td></tr>\n",
       "\t<tr><td>897                                         </td><td>3                                           </td><td>Svensson, Mr. Johan Cervin                  </td><td>male                                        </td><td>14.0                                        </td><td>0                                           </td><td>0                                           </td><td>7538                                        </td><td> 9.2250                                     </td><td>                                            </td><td>S                                           </td></tr>\n",
       "</tbody>\n",
       "</table>\n"
      ],
      "text/latex": [
       "\\begin{tabular}{r|lllllllllll}\n",
       " PassengerId & Pclass & Name & Sex & Age & SibSp & Parch & Ticket & Fare & Cabin & Embarked\\\\\n",
       "\\hline\n",
       "\t 892                                          & 3                                            & Kelly, Mr. James                             & male                                         & 34.5                                         & 0                                            & 0                                            & 330911                                       &  7.8292                                      &                                              & Q                                           \\\\\n",
       "\t 893                                          & 3                                            & Wilkes, Mrs. James (Ellen Needs)             & female                                       & 47.0                                         & 1                                            & 0                                            & 363272                                       &  7.0000                                      &                                              & S                                           \\\\\n",
       "\t 894                                          & 2                                            & Myles, Mr. Thomas Francis                    & male                                         & 62.0                                         & 0                                            & 0                                            & 240276                                       &  9.6875                                      &                                              & Q                                           \\\\\n",
       "\t 895                                          & 3                                            & Wirz, Mr. Albert                             & male                                         & 27.0                                         & 0                                            & 0                                            & 315154                                       &  8.6625                                      &                                              & S                                           \\\\\n",
       "\t 896                                          & 3                                            & Hirvonen, Mrs. Alexander (Helga E Lindqvist) & female                                       & 22.0                                         & 1                                            & 1                                            & 3101298                                      & 12.2875                                      &                                              & S                                           \\\\\n",
       "\t 897                                          & 3                                            & Svensson, Mr. Johan Cervin                   & male                                         & 14.0                                         & 0                                            & 0                                            & 7538                                         &  9.2250                                      &                                              & S                                           \\\\\n",
       "\\end{tabular}\n"
      ],
      "text/markdown": [
       "\n",
       "| PassengerId | Pclass | Name | Sex | Age | SibSp | Parch | Ticket | Fare | Cabin | Embarked |\n",
       "|---|---|---|---|---|---|---|---|---|---|---|\n",
       "| 892                                          | 3                                            | Kelly, Mr. James                             | male                                         | 34.5                                         | 0                                            | 0                                            | 330911                                       |  7.8292                                      |                                              | Q                                            |\n",
       "| 893                                          | 3                                            | Wilkes, Mrs. James (Ellen Needs)             | female                                       | 47.0                                         | 1                                            | 0                                            | 363272                                       |  7.0000                                      |                                              | S                                            |\n",
       "| 894                                          | 2                                            | Myles, Mr. Thomas Francis                    | male                                         | 62.0                                         | 0                                            | 0                                            | 240276                                       |  9.6875                                      |                                              | Q                                            |\n",
       "| 895                                          | 3                                            | Wirz, Mr. Albert                             | male                                         | 27.0                                         | 0                                            | 0                                            | 315154                                       |  8.6625                                      |                                              | S                                            |\n",
       "| 896                                          | 3                                            | Hirvonen, Mrs. Alexander (Helga E Lindqvist) | female                                       | 22.0                                         | 1                                            | 1                                            | 3101298                                      | 12.2875                                      |                                              | S                                            |\n",
       "| 897                                          | 3                                            | Svensson, Mr. Johan Cervin                   | male                                         | 14.0                                         | 0                                            | 0                                            | 7538                                         |  9.2250                                      |                                              | S                                            |\n",
       "\n"
      ],
      "text/plain": [
       "  PassengerId Pclass Name                                         Sex    Age \n",
       "1 892         3      Kelly, Mr. James                             male   34.5\n",
       "2 893         3      Wilkes, Mrs. James (Ellen Needs)             female 47.0\n",
       "3 894         2      Myles, Mr. Thomas Francis                    male   62.0\n",
       "4 895         3      Wirz, Mr. Albert                             male   27.0\n",
       "5 896         3      Hirvonen, Mrs. Alexander (Helga E Lindqvist) female 22.0\n",
       "6 897         3      Svensson, Mr. Johan Cervin                   male   14.0\n",
       "  SibSp Parch Ticket  Fare    Cabin Embarked\n",
       "1 0     0     330911   7.8292       Q       \n",
       "2 1     0     363272   7.0000       S       \n",
       "3 0     0     240276   9.6875       Q       \n",
       "4 0     0     315154   8.6625       S       \n",
       "5 1     1     3101298 12.2875       S       \n",
       "6 0     0     7538     9.2250       S       "
      ]
     },
     "metadata": {},
     "output_type": "display_data"
    }
   ],
   "source": [
    "head(test)"
   ]
  },
  {
   "cell_type": "code",
   "execution_count": 17,
   "id": "54e118c8",
   "metadata": {},
   "outputs": [],
   "source": [
    "levels(test$Embarked) <- c(levels(test$Embarked),\"\")"
   ]
  },
  {
   "cell_type": "code",
   "execution_count": 18,
   "id": "77d5b3ff",
   "metadata": {},
   "outputs": [],
   "source": [
    "pred <- predict(tune_rf, extractFeatures(test))"
   ]
  },
  {
   "cell_type": "code",
   "execution_count": 19,
   "id": "22ace2aa",
   "metadata": {},
   "outputs": [],
   "source": [
    "survived <- read.csv(\"src/titanic/gender_submission.csv\")"
   ]
  },
  {
   "cell_type": "code",
   "execution_count": 20,
   "id": "633ba376",
   "metadata": {},
   "outputs": [
    {
     "data": {
      "text/html": [
       "<table>\n",
       "<thead><tr><th scope=col>PassengerId</th><th scope=col>Survived</th></tr></thead>\n",
       "<tbody>\n",
       "\t<tr><td>892</td><td>0  </td></tr>\n",
       "\t<tr><td>893</td><td>1  </td></tr>\n",
       "\t<tr><td>894</td><td>0  </td></tr>\n",
       "\t<tr><td>895</td><td>0  </td></tr>\n",
       "\t<tr><td>896</td><td>1  </td></tr>\n",
       "\t<tr><td>897</td><td>0  </td></tr>\n",
       "</tbody>\n",
       "</table>\n"
      ],
      "text/latex": [
       "\\begin{tabular}{r|ll}\n",
       " PassengerId & Survived\\\\\n",
       "\\hline\n",
       "\t 892 & 0  \\\\\n",
       "\t 893 & 1  \\\\\n",
       "\t 894 & 0  \\\\\n",
       "\t 895 & 0  \\\\\n",
       "\t 896 & 1  \\\\\n",
       "\t 897 & 0  \\\\\n",
       "\\end{tabular}\n"
      ],
      "text/markdown": [
       "\n",
       "| PassengerId | Survived |\n",
       "|---|---|\n",
       "| 892 | 0   |\n",
       "| 893 | 1   |\n",
       "| 894 | 0   |\n",
       "| 895 | 0   |\n",
       "| 896 | 1   |\n",
       "| 897 | 0   |\n",
       "\n"
      ],
      "text/plain": [
       "  PassengerId Survived\n",
       "1 892         0       \n",
       "2 893         1       \n",
       "3 894         0       \n",
       "4 895         0       \n",
       "5 896         1       \n",
       "6 897         0       "
      ]
     },
     "metadata": {},
     "output_type": "display_data"
    }
   ],
   "source": [
    "head(survived)"
   ]
  },
  {
   "cell_type": "code",
   "execution_count": 21,
   "id": "2c523639",
   "metadata": {},
   "outputs": [],
   "source": [
    "conf_mat_test <- table(survived$Survived, pred)"
   ]
  },
  {
   "cell_type": "code",
   "execution_count": 22,
   "id": "8c5c685c",
   "metadata": {},
   "outputs": [
    {
     "data": {
      "text/plain": [
       "   pred\n",
       "      0   1\n",
       "  0 254  12\n",
       "  1  36 116"
      ]
     },
     "metadata": {},
     "output_type": "display_data"
    }
   ],
   "source": [
    "conf_mat_test"
   ]
  },
  {
   "cell_type": "code",
   "execution_count": 23,
   "id": "d5b49152",
   "metadata": {},
   "outputs": [
    {
     "name": "stdout",
     "output_type": "stream",
     "text": [
      "Test accuracy:  0.8851675"
     ]
    }
   ],
   "source": [
    "cat(\"Test accuracy: \", sum(diag(conf_mat_test))/sum(conf_mat_test))"
   ]
  }
 ],
 "metadata": {
  "kernelspec": {
   "display_name": "R",
   "language": "R",
   "name": "ir"
  },
  "language_info": {
   "codemirror_mode": "r",
   "file_extension": ".r",
   "mimetype": "text/x-r-source",
   "name": "R",
   "pygments_lexer": "r",
   "version": "3.6.1"
  }
 },
 "nbformat": 4,
 "nbformat_minor": 5
}
